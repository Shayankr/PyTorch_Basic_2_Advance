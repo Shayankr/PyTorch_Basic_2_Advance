{
  "cells": [
    {
      "cell_type": "markdown",
      "metadata": {
        "id": "eNT7516xeg7R"
      },
      "source": [
        "#<center>Classify MNIST Digits Using MLP</center>"
      ]
    },
    {
      "cell_type": "code",
      "execution_count": null,
      "metadata": {
        "id": "bstHcBGnksCq"
      },
      "outputs": [],
      "source": [
        "# importing some necessary libraries\n",
        "import pandas as pd\n",
        "import numpy as np\n",
        "import matplotlib.pyplot as plt\n",
        "import seaborn as sns\n",
        "\n",
        "import torch\n",
        "import torch.nn as nn\n",
        "import torch.optim as optim\n",
        "from torch.utils.data import DataLoader,Dataset\n",
        "from torchvision import datasets, transforms\n",
        "# from torchvision.transforms import ToTensor\n",
        "# from torch.utils.data.sampler import SubsetRandomSampler"
      ]
    },
    {
      "cell_type": "markdown",
      "metadata": {
        "id": "CpT3K4x4waJY"
      },
      "source": [
        "## Loading a Dataset"
      ]
    },
    {
      "cell_type": "markdown",
      "metadata": {
        "id": "KqKvgDICp8B5"
      },
      "source": [
        "PyTorch provides a pre-built MNIST dataset in the \"torchvision.datasets\" module."
      ]
    },
    {
      "cell_type": "markdown",
      "metadata": {
        "id": "IPViWdg8sq3q"
      },
      "source": [
        "https://pytorch.org/tutorials/beginner/basics/data_tutorial.html"
      ]
    },
    {
      "cell_type": "markdown",
      "metadata": {
        "id": "uJ089BMwt2uh"
      },
      "source": [
        "\n",
        "I load the MNIST Dataset with the following parameters:\n",
        "\n",
        "- **root** is the path where the train/test data is stored,\n",
        "\n",
        "- **train** specifies training or test dataset,\n",
        "\n",
        "- **download=True** downloads the data from the internet if it’s not available at root.\n",
        "- **transform** and **target_transform** specify the feature and label transformations.\n",
        "\n"
      ]
    },
    {
      "cell_type": "code",
      "execution_count": null,
      "metadata": {
        "colab": {
          "base_uri": "https://localhost:8080/",
          "height": 428,
          "referenced_widgets": [
            "967ec3b1366843d9b959034b707bdc5d",
            "6ee6dc51fc2c487890976060771d09b8",
            "95eebfbb39e3487997d1fa09b06a3fbd",
            "e5b025c582da4132bea3ecb2a2e6cc79",
            "02a63390708c4dea968b5cd6e2be5b0a",
            "9a57d36657434ea4a970d32702139e31",
            "e31fcca6218044c3bf7cdd3672e30a80",
            "401f7d6f6aba4ecf8be7cea6fd9698a1",
            "e96b604b7a834899abe8cede03097b0c",
            "9b62b6ddba564bb2b090806cc341e2eb",
            "8fddec4731864b109ca1b01cd2868456",
            "6917ece9f11346deb0c70af2a94e1244",
            "7e2ca0bb7f05401d971043d03d2981eb",
            "f1fa00676f5e4e11b3430fc20f8eba33",
            "8bc894b394b44d20a7e2a6515aee300f",
            "a58ba21abb1f4f67bcb1dcd5a9d230bb",
            "5ca3d28cf3f946a093ea64b6c1987aec",
            "dad0e7ead13e4a2b9e35467a4571dc8a",
            "3cbd622613584ab689c1ee58ff767d26",
            "ffec4c2c8aa04828b5d79d6fba36f0a8",
            "f5d5b6908b3246ce8d1d4e8cc0143999",
            "560d6cb5ce864170b2979556687c24ad",
            "296339b6e4d04d7fb8b6771a4e2477b4",
            "c41a143a7e5945168872145ba9234c0c",
            "f69f13329a394de6a4b620d11e66ce4d",
            "efc860d0616744f9a6aea39bc09bc1c6",
            "afe12df60d354f509bcda949e0509d04",
            "3dc016eb2c3f4dc3a5ac52fe1a86bebf",
            "cb652bf93a0b4e4c8c261c4deb7bcddd",
            "7fb76b237d534ca88cdaceb41e74d63e",
            "cd14913f45f8429d8da1d7fcc4eb1219",
            "7b3547ead54e42f5a621e8584ab338ae",
            "287a494499cc442f882586970420baca",
            "180c51f837f2401b9b696c420bfca2d2",
            "7bd4226d48044f0a942ee9f914eeba8d",
            "ec05d0fedd7b4370a9c0a9747fdec797",
            "1173e3e141c044659dc3df6334711df4",
            "086a6bfb18124fdbaccbe4163d1968fe",
            "e4892e8c7e8043beb9e98d1e63624d35",
            "8e50ddfb2a7749cd82afc73d35802fd2",
            "5613c1119b10410e8badebf372315923",
            "9e22ad8ff4074fa88de87615555f454c",
            "1bbc1924198544c68ff98bd03426a83a",
            "7975729bbcff4f238c186124321bd12e"
          ]
        },
        "id": "tg5L9UHWmI5T",
        "outputId": "05015b5d-6153-4740-ef28-26667e900feb"
      },
      "outputs": [
        {
          "name": "stdout",
          "output_type": "stream",
          "text": [
            "Downloading http://yann.lecun.com/exdb/mnist/train-images-idx3-ubyte.gz\n",
            "Downloading http://yann.lecun.com/exdb/mnist/train-images-idx3-ubyte.gz to data/MNIST/raw/train-images-idx3-ubyte.gz\n"
          ]
        },
        {
          "data": {
            "application/vnd.jupyter.widget-view+json": {
              "model_id": "967ec3b1366843d9b959034b707bdc5d",
              "version_major": 2,
              "version_minor": 0
            },
            "text/plain": [
              "  0%|          | 0/9912422 [00:00<?, ?it/s]"
            ]
          },
          "metadata": {},
          "output_type": "display_data"
        },
        {
          "name": "stdout",
          "output_type": "stream",
          "text": [
            "Extracting data/MNIST/raw/train-images-idx3-ubyte.gz to data/MNIST/raw\n",
            "\n",
            "Downloading http://yann.lecun.com/exdb/mnist/train-labels-idx1-ubyte.gz\n",
            "Downloading http://yann.lecun.com/exdb/mnist/train-labels-idx1-ubyte.gz to data/MNIST/raw/train-labels-idx1-ubyte.gz\n"
          ]
        },
        {
          "data": {
            "application/vnd.jupyter.widget-view+json": {
              "model_id": "6917ece9f11346deb0c70af2a94e1244",
              "version_major": 2,
              "version_minor": 0
            },
            "text/plain": [
              "  0%|          | 0/28881 [00:00<?, ?it/s]"
            ]
          },
          "metadata": {},
          "output_type": "display_data"
        },
        {
          "name": "stdout",
          "output_type": "stream",
          "text": [
            "Extracting data/MNIST/raw/train-labels-idx1-ubyte.gz to data/MNIST/raw\n",
            "\n",
            "Downloading http://yann.lecun.com/exdb/mnist/t10k-images-idx3-ubyte.gz\n",
            "Downloading http://yann.lecun.com/exdb/mnist/t10k-images-idx3-ubyte.gz to data/MNIST/raw/t10k-images-idx3-ubyte.gz\n"
          ]
        },
        {
          "data": {
            "application/vnd.jupyter.widget-view+json": {
              "model_id": "296339b6e4d04d7fb8b6771a4e2477b4",
              "version_major": 2,
              "version_minor": 0
            },
            "text/plain": [
              "  0%|          | 0/1648877 [00:00<?, ?it/s]"
            ]
          },
          "metadata": {},
          "output_type": "display_data"
        },
        {
          "name": "stdout",
          "output_type": "stream",
          "text": [
            "Extracting data/MNIST/raw/t10k-images-idx3-ubyte.gz to data/MNIST/raw\n",
            "\n",
            "Downloading http://yann.lecun.com/exdb/mnist/t10k-labels-idx1-ubyte.gz\n",
            "Downloading http://yann.lecun.com/exdb/mnist/t10k-labels-idx1-ubyte.gz to data/MNIST/raw/t10k-labels-idx1-ubyte.gz\n"
          ]
        },
        {
          "data": {
            "application/vnd.jupyter.widget-view+json": {
              "model_id": "180c51f837f2401b9b696c420bfca2d2",
              "version_major": 2,
              "version_minor": 0
            },
            "text/plain": [
              "  0%|          | 0/4542 [00:00<?, ?it/s]"
            ]
          },
          "metadata": {},
          "output_type": "display_data"
        },
        {
          "name": "stdout",
          "output_type": "stream",
          "text": [
            "Extracting data/MNIST/raw/t10k-labels-idx1-ubyte.gz to data/MNIST/raw\n",
            "\n"
          ]
        }
      ],
      "source": [
        "# Load the training and test datasets\n",
        "\n",
        "# https://pytorch.org/vision/stable/generated/torchvision.datasets.MNIST.html#torchvision.datasets.MNIST\n",
        "\n",
        "# from torchvision import datasets, transforms\n",
        "train_dataset = datasets.MNIST(root='data', \n",
        "                               train=True, # If True, creates dataset from train-images-idx3-ubyte,\n",
        "                               download=True, \n",
        "                               transform=transforms.ToTensor(),\n",
        "                              #  target_transform=Lambda(lambda y: torch.zeros(10, dtype=torch.float).scatter_(0, torch.tensor(y), value=1))\n",
        "                               )\n",
        "\n",
        "test_dataset = datasets.MNIST(root='data', \n",
        "                              train=False, # If False, creates dataset from t10k-images-idx3-ubyte.\n",
        "                              download=True, \n",
        "                              transform=transforms.ToTensor(),\n",
        "                              # target_transform=Lambda(lambda y: torch.zeros(10, dtype=torch.float).scatter_(0, torch.tensor(y), value=1))\n",
        "                              )\n",
        "\n",
        "# Dataset Web Page link:\n",
        "# http://yann.lecun.com/exdb/mnist/"
      ]
    },
    {
      "cell_type": "markdown",
      "metadata": {
        "id": "LFF6m409wTAp"
      },
      "source": [
        "## Iterating and Visualizing the Dataset"
      ]
    },
    {
      "cell_type": "code",
      "execution_count": null,
      "metadata": {
        "colab": {
          "base_uri": "https://localhost:8080/"
        },
        "id": "E5hG4ngZtsal",
        "outputId": "d48cea43-7387-4c82-b4a7-334a99344043"
      },
      "outputs": [
        {
          "data": {
            "text/plain": [
              "Dataset MNIST\n",
              "    Number of datapoints: 60000\n",
              "    Root location: data\n",
              "    Split: Train\n",
              "    StandardTransform\n",
              "Transform: ToTensor()"
            ]
          },
          "execution_count": 3,
          "metadata": {},
          "output_type": "execute_result"
        }
      ],
      "source": [
        "train_dataset"
      ]
    },
    {
      "cell_type": "code",
      "execution_count": null,
      "metadata": {
        "colab": {
          "base_uri": "https://localhost:8080/"
        },
        "id": "UwVRQTqQwxc5",
        "outputId": "40d08b20-23c2-4653-da5a-526bdc9a4152"
      },
      "outputs": [
        {
          "data": {
            "text/plain": [
              "Dataset MNIST\n",
              "    Number of datapoints: 10000\n",
              "    Root location: data\n",
              "    Split: Test\n",
              "    StandardTransform\n",
              "Transform: ToTensor()"
            ]
          },
          "execution_count": 4,
          "metadata": {},
          "output_type": "execute_result"
        }
      ],
      "source": [
        "test_dataset"
      ]
    },
    {
      "cell_type": "code",
      "execution_count": null,
      "metadata": {
        "colab": {
          "base_uri": "https://localhost:8080/"
        },
        "id": "AwNf0g6pw5OC",
        "outputId": "a9b6b8c8-1f8a-4b6c-c69a-79a38f68274d"
      },
      "outputs": [
        {
          "data": {
            "text/plain": [
              "torchvision.datasets.mnist.MNIST"
            ]
          },
          "execution_count": 5,
          "metadata": {},
          "output_type": "execute_result"
        }
      ],
      "source": [
        "type(train_dataset)"
      ]
    },
    {
      "cell_type": "code",
      "execution_count": null,
      "metadata": {
        "colab": {
          "base_uri": "https://localhost:8080/"
        },
        "id": "UzMWcF7BzlfM",
        "outputId": "12ba0c6e-3df6-45d0-c96d-65055500e1f2"
      },
      "outputs": [
        {
          "data": {
            "text/plain": [
              "torch.Size([1, 28, 28])"
            ]
          },
          "execution_count": 6,
          "metadata": {},
          "output_type": "execute_result"
        }
      ],
      "source": [
        "train_dataset[0][0].shape"
      ]
    },
    {
      "cell_type": "code",
      "execution_count": null,
      "metadata": {
        "colab": {
          "base_uri": "https://localhost:8080/"
        },
        "id": "66X3z20iz6AT",
        "outputId": "f6ce26a0-5014-4927-b788-5871705ea39f"
      },
      "outputs": [
        {
          "data": {
            "text/plain": [
              "tuple"
            ]
          },
          "execution_count": 7,
          "metadata": {},
          "output_type": "execute_result"
        }
      ],
      "source": [
        "type(train_dataset[1])"
      ]
    },
    {
      "cell_type": "code",
      "execution_count": null,
      "metadata": {
        "colab": {
          "base_uri": "https://localhost:8080/"
        },
        "id": "uDymPg-v0J6o",
        "outputId": "621f952e-5b79-472a-ddc4-257504246e7d"
      },
      "outputs": [
        {
          "name": "stdout",
          "output_type": "stream",
          "text": [
            "Shape of one paricular Input data-point  is: torch.Size([1, 28, 28])\n",
            "label for this datapoint is: 0\n"
          ]
        }
      ],
      "source": [
        "print(f\"Shape of one paricular Input data-point  is: {train_dataset[1][0].shape}\")\n",
        "print(f\"label for this datapoint is: {train_dataset[1][1]}\")"
      ]
    },
    {
      "cell_type": "code",
      "execution_count": null,
      "metadata": {
        "colab": {
          "base_uri": "https://localhost:8080/"
        },
        "id": "GF9oB1Fq1EAA",
        "outputId": "1075b42d-860b-44ad-d31e-3a7a0169b799"
      },
      "outputs": [
        {
          "data": {
            "text/plain": [
              "torch.Tensor"
            ]
          },
          "execution_count": 9,
          "metadata": {},
          "output_type": "execute_result"
        }
      ],
      "source": [
        "type(train_dataset[1][0])"
      ]
    },
    {
      "cell_type": "code",
      "execution_count": null,
      "metadata": {
        "colab": {
          "base_uri": "https://localhost:8080/"
        },
        "id": "v8RqtWgV1I6l",
        "outputId": "b8a12e92-1c6b-4946-c6d3-986db4b438dd"
      },
      "outputs": [
        {
          "data": {
            "text/plain": [
              "torch.Tensor"
            ]
          },
          "execution_count": 10,
          "metadata": {},
          "output_type": "execute_result"
        }
      ],
      "source": [
        "type(train_dataset[1][0][0])"
      ]
    },
    {
      "cell_type": "code",
      "execution_count": null,
      "metadata": {
        "colab": {
          "base_uri": "https://localhost:8080/",
          "height": 482
        },
        "id": "g__UPKW1yxQB",
        "outputId": "2ff8687f-b5a8-4cdf-cb99-948ecf4b6271"
      },
      "outputs": [
        {
          "data": {
            "image/png": "[encoded data removed]",
            "text/plain": [
              "<Figure size 576x576 with 9 Axes>"
            ]
          },
          "metadata": {},
          "output_type": "display_data"
        }
      ],
      "source": [
        "figure = plt.figure(figsize=(8, 8))\n",
        "cols, rows = 3, 3\n",
        "for i in range(1, cols * rows + 1):\n",
        "    sample_idx = torch.randint(len(train_dataset), size=(1,)).item()\n",
        "    img, label = train_dataset[sample_idx]\n",
        "    figure.add_subplot(rows, cols, i)\n",
        "    plt.title(label)\n",
        "    plt.axis(\"off\")\n",
        "    plt.imshow(img.squeeze(), cmap=\"gray\") # squeezing remove all 1-D unless any specified \"dim=i\" is mentioned.\n",
        "plt.show()"
      ]
    },
    {
      "cell_type": "markdown",
      "metadata": {
        "id": "QyhiH4Re5jZb"
      },
      "source": [
        "## Preparing your data for training with <U>'DataLoaders'</U>"
      ]
    },
    {
      "cell_type": "code",
      "execution_count": null,
      "metadata": {
        "id": "-L8q8erNyxMq"
      },
      "outputs": [],
      "source": [
        "# create data loaders to batch and shuffle the data using the torch.utils.data.DataLoader class."
      ]
    },
    {
      "cell_type": "markdown",
      "metadata": {
        "id": "yy1-Dti759dh"
      },
      "source": [
        "- The **'Dataset'** retrieves our dataset’s features and labels one sample at a time. \n",
        " -   While training a model, we typically want to pass samples in **“minibatches”**, <U>reshuffle the data at every epoch to reduce model overfitting</U>, and use Python’s multiprocessing to speed up data retrieval."
      ]
    },
    {
      "cell_type": "code",
      "execution_count": null,
      "metadata": {
        "id": "WavPXHRU58ob"
      },
      "outputs": [],
      "source": [
        "# \"'DataLoader'\" is an iterable that abstracts this complexity for us in an easy API."
      ]
    },
    {
      "cell_type": "code",
      "execution_count": null,
      "metadata": {
        "id": "NkUue-g4x__T"
      },
      "outputs": [],
      "source": [
        "# Create data loaders to batch and shuffle the data\n",
        "\n",
        "# from torch.utils.data import DataLoader\n",
        "\n",
        "batch_size = 32\n",
        "train_dataloader = DataLoader(train_dataset, batch_size=batch_size, shuffle=True)\n",
        "test_dataloader = DataLoader(test_dataset, batch_size=batch_size, shuffle=True)"
      ]
    },
    {
      "cell_type": "markdown",
      "metadata": {
        "id": "k9UyXitZ8n_d"
      },
      "source": [
        "## Iterate through the DataLoader"
      ]
    },
    {
      "cell_type": "markdown",
      "metadata": {
        "id": "MBs04V2-8t9M"
      },
      "source": [
        "We have loaded that dataset into the **'DataLoader'** and can iterate through the dataset as needed.\n",
        "- Each iteration below returns a batch of **train_features** and **train_labels** (containing **batch_size=64** features and labels respectively).\n",
        "- Because we specified **shuffle=True**, after we iterate over all batches the data is shuffled (for finer-grained control over the data loading order, take a look at [Samplers](https://pytorch.org/docs/stable/data.html#data-loading-order-and-sampler)."
      ]
    },
    {
      "cell_type": "code",
      "execution_count": null,
      "metadata": {
        "colab": {
          "base_uri": "https://localhost:8080/"
        },
        "id": "MF6kmxsjn_34",
        "outputId": "bfc2e6eb-a42f-4739-8e18-0ddb6ca00475"
      },
      "outputs": [
        {
          "data": {
            "text/plain": [
              "torch.utils.data.dataloader.DataLoader"
            ]
          },
          "execution_count": 15,
          "metadata": {},
          "output_type": "execute_result"
        }
      ],
      "source": [
        "type(train_dataloader)"
      ]
    },
    {
      "cell_type": "code",
      "execution_count": null,
      "metadata": {
        "colab": {
          "base_uri": "https://localhost:8080/"
        },
        "id": "G1Qch1PIoOuR",
        "outputId": "97b8dc42-b75a-4ca2-e60e-16f0da086b46"
      },
      "outputs": [
        {
          "data": {
            "text/plain": [
              "1875"
            ]
          },
          "execution_count": 16,
          "metadata": {},
          "output_type": "execute_result"
        }
      ],
      "source": [
        "len(list(iter(train_dataloader)))"
      ]
    },
    {
      "cell_type": "code",
      "execution_count": null,
      "metadata": {
        "colab": {
          "base_uri": "https://localhost:8080/"
        },
        "id": "l1dJSbsgosrA",
        "outputId": "78d4a32c-1b20-481d-f620-1915b166f9ef"
      },
      "outputs": [
        {
          "data": {
            "text/plain": [
              "1875"
            ]
          },
          "execution_count": 17,
          "metadata": {},
          "output_type": "execute_result"
        }
      ],
      "source": [
        "len(list(train_dataloader))"
      ]
    },
    {
      "cell_type": "code",
      "execution_count": null,
      "metadata": {
        "colab": {
          "base_uri": "https://localhost:8080/",
          "height": 318
        },
        "id": "_BbNMTtF8Vxe",
        "outputId": "593489b8-cd12-499b-96ce-af84c93a6dae"
      },
      "outputs": [
        {
          "name": "stdout",
          "output_type": "stream",
          "text": [
            "Feature batch shape: torch.Size([32, 1, 28, 28])\n",
            "Labels batch shape: torch.Size([32])\n"
          ]
        },
        {
          "data": {
            "image/png": "[encoded data removed]",
            "text/plain": [
              "<Figure size 432x288 with 1 Axes>"
            ]
          },
          "metadata": {},
          "output_type": "display_data"
        },
        {
          "name": "stdout",
          "output_type": "stream",
          "text": [
            "Label: 7\n"
          ]
        }
      ],
      "source": [
        "train_features, train_labels = next(iter(train_dataloader))\n",
        "print(f\"Feature batch shape: {train_features.size()}\")\n",
        "print(f\"Labels batch shape: {train_labels.size()}\")\n",
        "img = train_features[0].squeeze()\n",
        "label = train_labels[0]\n",
        "plt.imshow(img, cmap=\"gray\")\n",
        "plt.show()\n",
        "print(f\"Label: {label}\")"
      ]
    },
    {
      "cell_type": "code",
      "execution_count": null,
      "metadata": {
        "id": "dpNdVqZL-4mr"
      },
      "outputs": [],
      "source": []
    },
    {
      "cell_type": "code",
      "execution_count": null,
      "metadata": {
        "id": "IXlXErE_-478"
      },
      "outputs": [],
      "source": []
    },
    {
      "cell_type": "markdown",
      "metadata": {
        "id": "sROR-p2F-5R_"
      },
      "source": [
        "## Define the Network Architecture:"
      ]
    },
    {
      "cell_type": "markdown",
      "metadata": {
        "id": "Q3FHJlrVZf_u"
      },
      "source": [
        "* we need to define/create a model in such a way that it will accept input as a 784-dim Tensor of pixel values for each image, and it will produce a Tensor of length 10 (total number of classes) that indicates the class scores for an input image.\n",
        "* Finally, output will belong to that class whose score is more."
      ]
    },
    {
      "cell_type": "markdown",
      "metadata": {
        "id": "L_BPsHCBfS-f"
      },
      "source": [
        "**Get Device for Training:**"
      ]
    },
    {
      "cell_type": "markdown",
      "metadata": {
        "id": "ft7XnyE3fbR6"
      },
      "source": [
        "We want to be able to train our model on a hardware accelerator like the GPU, if it is available. Let’s check to see if torch.cuda is available, else we continue to use the CPU."
      ]
    },
    {
      "cell_type": "code",
      "execution_count": null,
      "metadata": {
        "colab": {
          "base_uri": "https://localhost:8080/"
        },
        "id": "Q1rQV8FcfSSd",
        "outputId": "a2b64db3-e2de-4050-a27a-73e92f70c1b8"
      },
      "outputs": [
        {
          "name": "stdout",
          "output_type": "stream",
          "text": [
            "Using cpu device\n"
          ]
        }
      ],
      "source": [
        "device = \"cuda\" if torch.cuda.is_available() else \"cpu\"\n",
        "print(f\"Using {device} device\")"
      ]
    },
    {
      "cell_type": "code",
      "execution_count": null,
      "metadata": {
        "colab": {
          "base_uri": "https://localhost:8080/"
        },
        "id": "tnHPp8wr0BTs",
        "outputId": "bd32e628-f05a-428c-f454-51d40d34e817"
      },
      "outputs": [
        {
          "name": "stdout",
          "output_type": "stream",
          "text": [
            "NVIDIA-SMI has failed because it couldn't communicate with the NVIDIA driver. Make sure that the latest NVIDIA driver is installed and running.\n",
            "\n"
          ]
        }
      ],
      "source": [
        "!nvidia-smi"
      ]
    },
    {
      "cell_type": "markdown",
      "metadata": {
        "id": "g8AzbOE6fnoc"
      },
      "source": [
        "**Define the Class**"
      ]
    },
    {
      "cell_type": "code",
      "execution_count": null,
      "metadata": {
        "id": "52mvVMr0b0ju"
      },
      "outputs": [],
      "source": [
        "# Define the Neural Network Architecture\n",
        "class Net_MNIST(nn.Module):\n",
        "    def __init__(self):\n",
        "        super(Net_MNIST, self).__init__()\n",
        "        # linear layer (784 -> hidden_1)\n",
        "        self.fc1 = nn.Linear(in_features=784, out_features=256, bias=True)   # 1st Hidden layer\n",
        "        # linear layer (hidden_1 -> hidden_2)\n",
        "        # self.fc2 = nn.Linear(512, 256)   # 2nd Hidden layer\n",
        "        # self.fc3 = nn.Linear(256, 128)   # 3rd Hidden layer\n",
        "        self.fc4 = nn.Linear(256, 64)    # 4th Hidden layer\n",
        "        self.fc5 = nn.Linear(64, 10)  #output layer\n",
        "        # dropout layer (p=0.2)\n",
        "        # dropout prevents overfitting of data\n",
        "        self.dropout = nn.Dropout(0.2)\n",
        "        self.dropout_2 = nn.Dropout(0.1)\n",
        "\n",
        "    def forward(self, x):\n",
        "        x = x.view(-1, 784)  # Flatten input image\n",
        "        x = torch.relu(self.fc1(x))  # add hidden layer, with relu activation function\n",
        "        x = self.dropout(x)  # add dropout layer\n",
        "        # x = torch.relu(self.fc2(x))  # add hidden layer, with relu activation function\n",
        "        # x = self.dropout(x)  # add output layer\n",
        "        # x = torch.relu(self.fc3(x))  # add hidden layer, with relu activation function\n",
        "        # x = self.dropout(x)  # add output layer\n",
        "        x = torch.relu(self.fc4(x))  # add hidden layer, with relu activation function\n",
        "        x = self.dropout_2(x)\n",
        "        x = self.fc5(x) # add output layer\n",
        "        return x\n"
      ]
    },
    {
      "cell_type": "code",
      "execution_count": null,
      "metadata": {
        "colab": {
          "base_uri": "https://localhost:8080/"
        },
        "id": "EBsel_fGdRt3",
        "outputId": "54123112-a226-4994-b170-29e49a4c7787"
      },
      "outputs": [
        {
          "name": "stdout",
          "output_type": "stream",
          "text": [
            "Net_MNIST(\n",
            "  (fc1): Linear(in_features=784, out_features=256, bias=True)\n",
            "  (fc4): Linear(in_features=256, out_features=64, bias=True)\n",
            "  (fc5): Linear(in_features=64, out_features=10, bias=True)\n",
            "  (dropout): Dropout(p=0.2, inplace=False)\n",
            "  (dropout_2): Dropout(p=0.1, inplace=False)\n",
            ")\n"
          ]
        }
      ],
      "source": [
        "# Instantiate the neural network model\n",
        "model = Net_MNIST().to(device)\n",
        "print(model)"
      ]
    },
    {
      "cell_type": "markdown",
      "metadata": {
        "id": "g1WhS8IC5PgL"
      },
      "source": [
        "###### Model Parameter\n",
        "\n",
        "Many layers inside a neural network are parameterized, i.e. have associated weights and biases that are optimized during training."
      ]
    },
    {
      "cell_type": "markdown",
      "metadata": {
        "id": "OqujrnY-5kO-"
      },
      "source": [
        "Subclassing nn.Module automatically tracks all fields defined inside your model object, and makes all parameters accessible using your model’s ***parameters()*** or ***named_parameters() methods.***\n",
        "- model.named_parameters()\n",
        "- model.parameters()"
      ]
    },
    {
      "cell_type": "code",
      "execution_count": null,
      "metadata": {
        "colab": {
          "base_uri": "https://localhost:8080/"
        },
        "id": "ajeUzJa_vnzX",
        "outputId": "5404d5a7-d41d-4259-82f7-94b421f1cce1"
      },
      "outputs": [
        {
          "name": "stdout",
          "output_type": "stream",
          "text": [
            "Model structure: Net_MNIST(\n",
            "  (fc1): Linear(in_features=784, out_features=256, bias=True)\n",
            "  (fc4): Linear(in_features=256, out_features=64, bias=True)\n",
            "  (fc5): Linear(in_features=64, out_features=10, bias=True)\n",
            "  (dropout): Dropout(p=0.2, inplace=False)\n",
            "  (dropout_2): Dropout(p=0.1, inplace=False)\n",
            ")\n",
            "\n",
            "\n",
            "Layer: fc1.weight | Size: torch.Size([256, 784]) | Values : tensor([[-0.0161, -0.0004,  0.0172,  ..., -0.0156, -0.0017, -0.0214],\n",
            "        [-0.0041, -0.0013, -0.0026,  ..., -0.0137, -0.0050,  0.0226]],\n",
            "       grad_fn=<SliceBackward0>) \n",
            "\n",
            "Layer: fc1.bias | Size: torch.Size([256]) | Values : tensor([ 0.0318, -0.0258], grad_fn=<SliceBackward0>) \n",
            "\n",
            "Layer: fc4.weight | Size: torch.Size([64, 256]) | Values : tensor([[ 0.0309, -0.0413,  0.0265,  0.0625, -0.0353,  0.0164, -0.0233,  0.0117,\n",
            "         -0.0506,  0.0174, -0.0542, -0.0304, -0.0159, -0.0330, -0.0121, -0.0282,\n",
            "          0.0212, -0.0116,  0.0432,  0.0030, -0.0351,  0.0516,  0.0316, -0.0086,\n",
            "         -0.0486, -0.0300,  0.0423,  0.0465,  0.0521, -0.0379, -0.0098,  0.0068,\n",
            "         -0.0076, -0.0410,  0.0112, -0.0423,  0.0606,  0.0149, -0.0347,  0.0163,\n",
            "          0.0228, -0.0107,  0.0034, -0.0375, -0.0557,  0.0558, -0.0367,  0.0567,\n",
            "          0.0542, -0.0025, -0.0499, -0.0066, -0.0500,  0.0370, -0.0159, -0.0236,\n",
            "         -0.0276, -0.0607, -0.0540, -0.0229, -0.0109,  0.0595, -0.0044,  0.0236,\n",
            "          0.0431, -0.0280, -0.0372, -0.0458, -0.0345,  0.0125,  0.0306,  0.0347,\n",
            "          0.0316, -0.0086,  0.0593,  0.0284,  0.0562, -0.0147,  0.0076, -0.0404,\n",
            "         -0.0076,  0.0220, -0.0261, -0.0053,  0.0590, -0.0564, -0.0088,  0.0204,\n",
            "          0.0623,  0.0311, -0.0078,  0.0247, -0.0146, -0.0541,  0.0170,  0.0274,\n",
            "         -0.0616, -0.0133, -0.0286,  0.0209, -0.0160, -0.0534,  0.0418, -0.0265,\n",
            "         -0.0383, -0.0587,  0.0577,  0.0358,  0.0422,  0.0389, -0.0511, -0.0324,\n",
            "          0.0145, -0.0140,  0.0191,  0.0055,  0.0356, -0.0113, -0.0012, -0.0426,\n",
            "          0.0469, -0.0488, -0.0307,  0.0058, -0.0197,  0.0502,  0.0347,  0.0232,\n",
            "          0.0203,  0.0561, -0.0152, -0.0607,  0.0030, -0.0521, -0.0320,  0.0564,\n",
            "         -0.0152,  0.0588,  0.0315, -0.0281,  0.0614, -0.0273,  0.0009,  0.0561,\n",
            "         -0.0242, -0.0106,  0.0230,  0.0182,  0.0475,  0.0619, -0.0262,  0.0394,\n",
            "         -0.0427,  0.0184,  0.0234, -0.0541, -0.0556, -0.0339, -0.0464,  0.0410,\n",
            "         -0.0303,  0.0392, -0.0208, -0.0439, -0.0547,  0.0612,  0.0040, -0.0415,\n",
            "         -0.0074, -0.0254,  0.0416,  0.0374,  0.0098, -0.0235,  0.0301, -0.0031,\n",
            "         -0.0083,  0.0210,  0.0330,  0.0561,  0.0454, -0.0429,  0.0123,  0.0483,\n",
            "         -0.0213,  0.0380,  0.0263, -0.0115,  0.0576, -0.0607, -0.0446,  0.0419,\n",
            "          0.0046, -0.0207,  0.0622,  0.0615,  0.0502, -0.0608,  0.0398, -0.0489,\n",
            "         -0.0150,  0.0443, -0.0558,  0.0523,  0.0106,  0.0273, -0.0254, -0.0419,\n",
            "          0.0544,  0.0607,  0.0167, -0.0203, -0.0423,  0.0364,  0.0276, -0.0564,\n",
            "          0.0567, -0.0526, -0.0435, -0.0060,  0.0510, -0.0396,  0.0033,  0.0575,\n",
            "          0.0168, -0.0420,  0.0182, -0.0576,  0.0517, -0.0040, -0.0526, -0.0043,\n",
            "          0.0289, -0.0011,  0.0386,  0.0171, -0.0558,  0.0473,  0.0267,  0.0056,\n",
            "          0.0151,  0.0229,  0.0456,  0.0172,  0.0226,  0.0061,  0.0140,  0.0398,\n",
            "         -0.0603,  0.0594,  0.0532,  0.0214, -0.0176,  0.0023, -0.0154,  0.0498],\n",
            "        [-0.0582,  0.0218,  0.0347,  0.0350, -0.0180,  0.0093,  0.0459, -0.0386,\n",
            "          0.0413,  0.0330,  0.0426,  0.0525,  0.0272, -0.0583, -0.0083, -0.0016,\n",
            "          0.0421,  0.0368, -0.0019,  0.0274,  0.0148,  0.0187,  0.0050,  0.0313,\n",
            "          0.0016,  0.0558,  0.0043, -0.0151,  0.0272, -0.0573, -0.0433,  0.0148,\n",
            "          0.0065, -0.0504, -0.0454, -0.0179,  0.0095,  0.0406,  0.0429,  0.0170,\n",
            "         -0.0572, -0.0029,  0.0087,  0.0281, -0.0483, -0.0385, -0.0351,  0.0276,\n",
            "          0.0496, -0.0050, -0.0097,  0.0425, -0.0397,  0.0337,  0.0531,  0.0374,\n",
            "          0.0016,  0.0199, -0.0323, -0.0536, -0.0004, -0.0384, -0.0114,  0.0340,\n",
            "          0.0117, -0.0130, -0.0200,  0.0279,  0.0035,  0.0003,  0.0267,  0.0238,\n",
            "          0.0212,  0.0216, -0.0097, -0.0142, -0.0326,  0.0374, -0.0496,  0.0161,\n",
            "          0.0480,  0.0163, -0.0229, -0.0605, -0.0392,  0.0198,  0.0386, -0.0201,\n",
            "          0.0466,  0.0589,  0.0552, -0.0571,  0.0066, -0.0031,  0.0211, -0.0493,\n",
            "         -0.0343,  0.0388, -0.0469, -0.0102, -0.0450,  0.0324, -0.0560,  0.0007,\n",
            "          0.0621,  0.0299,  0.0293, -0.0230,  0.0620, -0.0145,  0.0553,  0.0290,\n",
            "         -0.0291,  0.0512, -0.0301, -0.0492,  0.0183, -0.0047,  0.0235, -0.0543,\n",
            "         -0.0499,  0.0597, -0.0176,  0.0077,  0.0353, -0.0404, -0.0554,  0.0192,\n",
            "         -0.0611, -0.0067, -0.0148, -0.0471,  0.0537, -0.0449,  0.0582,  0.0057,\n",
            "         -0.0350, -0.0225,  0.0581, -0.0513, -0.0415, -0.0220, -0.0394, -0.0496,\n",
            "          0.0470, -0.0606,  0.0594,  0.0191,  0.0565,  0.0603,  0.0075, -0.0299,\n",
            "          0.0003, -0.0079, -0.0181,  0.0217, -0.0066,  0.0246, -0.0014,  0.0104,\n",
            "         -0.0216, -0.0203,  0.0616,  0.0136,  0.0233, -0.0574, -0.0173, -0.0131,\n",
            "          0.0182, -0.0350,  0.0070, -0.0062,  0.0162, -0.0489,  0.0215,  0.0422,\n",
            "          0.0020, -0.0374,  0.0568,  0.0286, -0.0392, -0.0313,  0.0115,  0.0564,\n",
            "          0.0416, -0.0030, -0.0434,  0.0198, -0.0214,  0.0260,  0.0617, -0.0494,\n",
            "         -0.0381, -0.0310, -0.0372, -0.0458,  0.0082, -0.0083, -0.0165,  0.0298,\n",
            "          0.0223, -0.0431, -0.0050,  0.0566,  0.0344,  0.0161,  0.0092,  0.0557,\n",
            "         -0.0002, -0.0451,  0.0245,  0.0366,  0.0431, -0.0100, -0.0352, -0.0167,\n",
            "         -0.0273,  0.0618, -0.0387,  0.0337,  0.0241, -0.0154,  0.0129, -0.0415,\n",
            "         -0.0161, -0.0181,  0.0324,  0.0263, -0.0058,  0.0426, -0.0182, -0.0295,\n",
            "         -0.0356,  0.0441,  0.0403,  0.0413,  0.0461,  0.0172, -0.0298, -0.0363,\n",
            "         -0.0105, -0.0343, -0.0191, -0.0398,  0.0075, -0.0088, -0.0373,  0.0139,\n",
            "          0.0364, -0.0228, -0.0553, -0.0489,  0.0170,  0.0181,  0.0392,  0.0040]],\n",
            "       grad_fn=<SliceBackward0>) \n",
            "\n",
            "Layer: fc4.bias | Size: torch.Size([64]) | Values : tensor([0.0033, 0.0138], grad_fn=<SliceBackward0>) \n",
            "\n",
            "Layer: fc5.weight | Size: torch.Size([10, 64]) | Values : tensor([[-0.0917,  0.1064, -0.0098,  0.0613,  0.0401,  0.0809,  0.0488, -0.0677,\n",
            "          0.1030, -0.0220, -0.0036,  0.0769,  0.0516,  0.0009,  0.0648, -0.1111,\n",
            "         -0.0950, -0.0423,  0.0449, -0.0996,  0.0624,  0.1009, -0.0549, -0.1080,\n",
            "         -0.1115, -0.0412, -0.1178, -0.0396,  0.0944,  0.0223,  0.0559,  0.1103,\n",
            "          0.0475,  0.0513,  0.0429, -0.0200,  0.1203,  0.0607, -0.0297, -0.0213,\n",
            "          0.0578,  0.1194,  0.1094, -0.0441,  0.1042, -0.0501, -0.0029,  0.0557,\n",
            "         -0.1228,  0.1059,  0.1075, -0.0796, -0.1026,  0.0222, -0.0632,  0.1139,\n",
            "         -0.0096, -0.1119,  0.0178,  0.0493,  0.0548,  0.0974, -0.0046,  0.0459],\n",
            "        [ 0.0415,  0.1155, -0.0775, -0.0726,  0.0215,  0.0547,  0.0119,  0.0576,\n",
            "         -0.1206, -0.0612, -0.1104,  0.0583,  0.0514,  0.0249, -0.0235, -0.0517,\n",
            "          0.0223, -0.0606,  0.1079,  0.0586, -0.0535,  0.0127, -0.0301, -0.0957,\n",
            "          0.0120, -0.1196,  0.0897,  0.0914,  0.1096,  0.0804, -0.1216, -0.0672,\n",
            "         -0.1220, -0.1122, -0.0573, -0.0981, -0.0250,  0.0903,  0.0726, -0.0523,\n",
            "          0.0143, -0.0700, -0.1112,  0.0801,  0.0890,  0.1079, -0.0056, -0.1228,\n",
            "          0.0279,  0.0217, -0.0462, -0.0479,  0.1010, -0.0541, -0.1049,  0.0918,\n",
            "          0.0654,  0.0299, -0.0472, -0.0323, -0.0803, -0.0069, -0.1150, -0.0129]],\n",
            "       grad_fn=<SliceBackward0>) \n",
            "\n",
            "Layer: fc5.bias | Size: torch.Size([10]) | Values : tensor([0.0019, 0.0369], grad_fn=<SliceBackward0>) \n",
            "\n"
          ]
        }
      ],
      "source": [
        "print(f\"Model structure: {model}\\n\\n\")\n",
        "\n",
        "for name, param in model.named_parameters():\n",
        "    print(f\"Layer: {name} | Size: {param.size()} | Values : {param[:2]} \\n\")\n",
        "    # break"
      ]
    },
    {
      "cell_type": "code",
      "execution_count": null,
      "metadata": {
        "id": "VOPm9rXp2HFt"
      },
      "outputs": [],
      "source": [
        "# list(model.parameters())"
      ]
    },
    {
      "cell_type": "markdown",
      "metadata": {
        "id": "joDkE94k1LDA"
      },
      "source": [
        "Analyze any Random Image:)"
      ]
    },
    {
      "cell_type": "code",
      "execution_count": null,
      "metadata": {
        "colab": {
          "base_uri": "https://localhost:8080/"
        },
        "id": "ENgWBuSf02Pi",
        "outputId": "a83f7a88-d60d-42c3-f6ad-81463b7be92d"
      },
      "outputs": [
        {
          "name": "stdout",
          "output_type": "stream",
          "text": [
            "cpu\n"
          ]
        }
      ],
      "source": [
        "print(device)"
      ]
    },
    {
      "cell_type": "code",
      "execution_count": null,
      "metadata": {
        "colab": {
          "base_uri": "https://localhost:8080/"
        },
        "id": "nz6VWMqn1RfR",
        "outputId": "7dcca635-00ff-4770-bfe4-69e09bcd717d"
      },
      "outputs": [
        {
          "name": "stdout",
          "output_type": "stream",
          "text": [
            "Model is on CPU\n"
          ]
        }
      ],
      "source": [
        "# Check if the model is on CPU or CUDA\n",
        "if next(model.parameters()).is_cuda:\n",
        "    print('Model is on CUDA')\n",
        "else:\n",
        "    print('Model is on CPU')"
      ]
    },
    {
      "cell_type": "code",
      "execution_count": null,
      "metadata": {
        "colab": {
          "base_uri": "https://localhost:8080/",
          "height": 407
        },
        "id": "Z7AX97Vmzw-t",
        "outputId": "23712635-532f-4592-85b0-70e77663df8d"
      },
      "outputs": [
        {
          "name": "stdout",
          "output_type": "stream",
          "text": [
            "logits is: \n",
            "tensor([[ 0.0851, -0.0892, -0.0084, -0.0526,  0.0799, -0.1269, -0.0849,  0.0252,\n",
            "          0.0806,  0.0816]], grad_fn=<AddmmBackward0>)\n",
            "\n",
            "\n",
            "pred_probab is: tensor([[0.1087, 0.0913, 0.0990, 0.0947, 0.1081, 0.0879, 0.0917, 0.1023, 0.1082,\n",
            "         0.1083]], grad_fn=<SoftmaxBackward0>)\n",
            "Predicted class: tensor([0])\n"
          ]
        },
        {
          "data": {
            "image/png": "[encoded data removed]",
            "text/plain": [
              "<Figure size 432x288 with 1 Axes>"
            ]
          },
          "metadata": {},
          "output_type": "display_data"
        }
      ],
      "source": [
        "X_ = torch.rand(1, 28, 28, device=device)\n",
        "# # Move tensor to CPU memory and convert to Numpy array\n",
        "# X = X_.cpu().numpy()\n",
        "logits = model(X_)\n",
        "print(f\"logits is: \\n{logits}\\n\\n\")\n",
        "pred_probab = nn.Softmax(dim=1)(logits)   # \"dim\" parameter indicates the dimension along which the values must sum to 1\n",
        "print(f\"pred_probab is: {pred_probab}\")\n",
        "y_pred = pred_probab.argmax(1)\n",
        "print(f\"Predicted class: {y_pred}\")\n",
        "X = X_.cpu().numpy()\n",
        "plt.imshow(X.squeeze())\n",
        "plt.show()"
      ]
    },
    {
      "cell_type": "markdown",
      "metadata": {
        "id": "WmUDoTGG_nc7"
      },
      "source": [
        "https://pytorch.org/tutorials/beginner/basics/optimization_tutorial.html"
      ]
    },
    {
      "cell_type": "markdown",
      "metadata": {
        "id": "Fe51IE4Z9cHN"
      },
      "source": [
        "##### Hyperparameters"
      ]
    },
    {
      "cell_type": "markdown",
      "metadata": {
        "id": "Li3OXrwb-0hi"
      },
      "source": [
        "- Hyperparameters are adjustable parameters that let you control the model optimization process. \n",
        "- Different hyperparameter values can impact model training and convergence rates."
      ]
    },
    {
      "cell_type": "markdown",
      "metadata": {
        "id": "qgV0DCES-_nn"
      },
      "source": [
        "\n",
        "We define the following hyperparameters for training:\n",
        "\n",
        "- **Number of Epochs** - the number times to iterate over the dataset\n",
        "\n",
        "- **Batch Size** - the number of data samples propagated through the network before the parameters are updated\n",
        "\n",
        "- **Learning Rate** - how much to update models parameters at each batch/epoch. Smaller values yield slow learning speed, while large values may result in unpredictable behavior during training.\n",
        "\n"
      ]
    },
    {
      "cell_type": "code",
      "execution_count": null,
      "metadata": {
        "id": "WcQ6IzLS9X9L"
      },
      "outputs": [],
      "source": [
        "learning_rate = 1e-3\n",
        "batch_size = 64\n",
        "epochs = 20"
      ]
    },
    {
      "cell_type": "markdown",
      "metadata": {
        "id": "su3icMwt_T8b"
      },
      "source": [
        "#### Optimization Loop\n",
        "Once we set our hyperparameters, we can then train and optimize our model with an optimization loop. Each iteration of the optimization loop is called an ***epoch.***\n",
        "- Loss Function\n",
        "- Optimizer"
      ]
    },
    {
      "cell_type": "markdown",
      "metadata": {
        "id": "PBFP55ipFwcI"
      },
      "source": [
        "\n",
        "Each epoch consists of two main parts:\n",
        "\n",
        "- **The Train Loop** - iterate over the training dataset and try to converge to optimal parameters.\n",
        "- **The Validation/Test Loop** - iterate over the test dataset to check if model performance is improving.\n",
        "\n"
      ]
    },
    {
      "cell_type": "markdown",
      "metadata": {
        "id": "TkhDj-pi39Ur"
      },
      "source": [
        "##### Loss Function"
      ]
    },
    {
      "cell_type": "markdown",
      "metadata": {
        "id": "la65jnRI4HEH"
      },
      "source": [
        "**Loss function** measures the degree of dissimilarity of obtained result to the target value, and it is the loss function that we want to minimize during training. "
      ]
    },
    {
      "cell_type": "markdown",
      "metadata": {
        "id": "We8sjbM04NL8"
      },
      "source": [
        "To calculate the loss we make a prediction using the inputs of our given data sample and compare it against the true data label value."
      ]
    },
    {
      "cell_type": "markdown",
      "metadata": {
        "id": "c-fuNclB4ZaO"
      },
      "source": [
        "Common loss functions include [**nn.MSELoss**](https://pytorch.org/docs/stable/generated/torch.nn.MSELoss.html#torch.nn.MSELoss) (Mean Square Error) for regression tasks, and [**nn.NLLLoss**](https://pytorch.org/docs/stable/generated/torch.nn.NLLLoss.html#torch.nn.NLLLoss) (Negative Log Likelihood) for classification. [**nn.CrossEntropyLoss**](https://pytorch.org/docs/stable/generated/torch.nn.CrossEntropyLoss.html#torch.nn.CrossEntropyLoss) combines ***nn.LogSoftmax*** and ***nn.NLLLoss.***"
      ]
    },
    {
      "cell_type": "code",
      "execution_count": null,
      "metadata": {
        "id": "4pnr2OMO9X56"
      },
      "outputs": [],
      "source": [
        "# Initialize the loss function\n",
        "loss_fn = nn.CrossEntropyLoss()"
      ]
    },
    {
      "cell_type": "markdown",
      "metadata": {
        "id": "eY7nzRTG5C05"
      },
      "source": [
        "##### Optimizer"
      ]
    },
    {
      "cell_type": "markdown",
      "metadata": {
        "id": "dERuMRWu5dFv"
      },
      "source": [
        "Optimization is the process of adjusting model parameters to reduce model error in each training step. "
      ]
    },
    {
      "cell_type": "markdown",
      "metadata": {
        "id": "KDJMqIYt5gos"
      },
      "source": [
        "**Optimization algorithms** define how this process is performed (in this example we use Stochastic Gradient Descent)."
      ]
    },
    {
      "cell_type": "markdown",
      "metadata": {
        "id": "wl2_yVZG5mst"
      },
      "source": [
        "There are many [different optimizers](https://pytorch.org/docs/stable/optim.html) available in PyTorch such as ADAM and RMSProp, that work better for different kinds of models and data."
      ]
    },
    {
      "cell_type": "markdown",
      "metadata": {
        "id": "dX3hIIVq6LiK"
      },
      "source": [
        "**We initialize the optimizer by registering the model’s parameters that need to be trained, and passing in the learning rate hyperparameter.**"
      ]
    },
    {
      "cell_type": "code",
      "execution_count": null,
      "metadata": {
        "id": "LfeqVtJR9X3s"
      },
      "outputs": [],
      "source": [
        "# We initialize the optimizer by registering the model’s parameters that need to be trained, and passing in the learning rate hyperparameter.\n",
        "optimizer = torch.optim.SGD(model.parameters(), lr=learning_rate)"
      ]
    },
    {
      "cell_type": "markdown",
      "metadata": {
        "id": "ThxWV0bZ6UCo"
      },
      "source": [
        "Inside the training loop, optimization happens in three steps:\n",
        "* Call **optimizer.zero_grad()** to reset the gradients of model parameters. Gradients by default add up; to prevent double-counting, we explicitly zero them at each iteration.\n",
        "* Backpropagate the prediction loss with a call to **loss.backward()**. PyTorch deposits the gradients of the loss w.r.t. each parameter.\n",
        "* Once we have our gradients, we call **optimizer.step()** to adjust the parameters by the gradients collected in the backward pass."
      ]
    },
    {
      "cell_type": "code",
      "execution_count": null,
      "metadata": {
        "id": "vOgQI_ebyFJw"
      },
      "outputs": [],
      "source": [
        "# OHE (One Hot Encoding)\n",
        "# from torchvision.transforms import Lambda # ToTensor, Lambda\n",
        "\n",
        "# target_transform = Lambda(lambda y: torch.zeros(\n",
        "#     10, dtype=torch.float).scatter_(dim=0, index=torch.tensor(y), value=1))"
      ]
    },
    {
      "cell_type": "markdown",
      "metadata": {
        "id": "0wO7k4Qdv3za"
      },
      "source": [
        "## Defining the Training and Testing Function"
      ]
    },
    {
      "cell_type": "code",
      "execution_count": null,
      "metadata": {
        "id": "3ox0F0pO-8lK"
      },
      "outputs": [],
      "source": [
        "from tqdm import tqdm\n",
        "\n",
        "def train(model, device, train_loader, optimizer, loss_fn):\n",
        "    model.train()\n",
        "    epoch_loss = 0.0\n",
        "    with tqdm(total=len(train_loader)) as progress_bar:\n",
        "        for i, (inputs, labels) in enumerate(train_loader, 0):\n",
        "            inputs, labels = inputs.to(device), labels.to(device)\n",
        "\n",
        "            # Compute prediction and loss\n",
        "            outputs = model(inputs)\n",
        "            loss = loss_fn(outputs, labels)\n",
        "\n",
        "            # Backpropagation\n",
        "            optimizer.zero_grad()\n",
        "            loss.backward()\n",
        "            optimizer.step()\n",
        "            epoch_loss += loss.item()\n",
        "\n",
        "            progress_bar.update(1)\n",
        "\n",
        "    avg_epoch_loss = epoch_loss / len(train_loader)\n",
        "    return avg_epoch_loss\n"
      ]
    },
    {
      "cell_type": "markdown",
      "metadata": {
        "id": "naTFS7OQk4-3"
      },
      "source": [
        "Here's a step-by-step explanation of the code:\n",
        "\n",
        "1. **size = len(dataloader.dataset) :** This line initializes a variable size to the total number of samples in the dataset.\n",
        "\n",
        "2. **model.train() :** This sets the model to training mode. This is necessary because the behavior of some layers in the model (such as dropout or batch normalization) can differ between training and inference, and setting the model to training mode ensures that these layers behave correctly during training.\n",
        "\n",
        "3.  **for batch, (X, y) in enumerate(dataloader): :** This is a loop that iterates over the batches of the input data. X and y are the input features and labels of the current batch.\n",
        "\n",
        "4. **X, y = X.to(device), y.to(device) :** This moves the input data and labels to the device (CPU or GPU) that the model is currently on.\n",
        "\n",
        "5. **pred = model(X) :** This computes the model's predictions for the current batch of input data.\n",
        "\n",
        "6. **loss = loss_fn(pred, y) :** This computes the loss between the model's predictions and the ground-truth labels.\n",
        "\n",
        "7. **optimizer.zero_grad() :** This clears the gradients of all optimized tensors. This is necessary because PyTorch accumulates gradients by default.\n",
        "\n",
        "8. **loss.backward() :** This computes the gradients of the loss with respect to all optimized tensors.\n",
        "\n",
        "9. **optimizer.step() :** This updates the optimized tensors based on their gradients.\n",
        "\n",
        "10. **if batch % 100 == 0:** : This condition checks if the current batch is a multiple of 100.\n",
        "\n",
        "11. **loss, current = loss.item(), batch * len(X) :** This line assigns the current loss to the variable loss and computes the index of the current sample.\n",
        "\n",
        "12. **print(f\"loss: {loss:>7f} [{current:>5d}/{size:>5d}]\") :** This prints the current loss and the progress of the training.\n",
        "\n",
        "\n",
        "Finally, regarding **model.train()**, it is only called once at the beginning of the function to ensure that the model is in training mode before the training loop begins. It is not necessary to call it again inside the loop."
      ]
    },
    {
      "cell_type": "code",
      "execution_count": null,
      "metadata": {
        "id": "mDBb4W1ik5Sr"
      },
      "outputs": [],
      "source": [
        "def test(model, device, test_loader, loss_fn):\n",
        "    model.eval()\n",
        "    test_loss = 0\n",
        "    correct = 0\n",
        "    total = 0\n",
        "    with torch.no_grad(), tqdm(total=len(test_loader)) as progress_bar:\n",
        "        for data in test_loader:\n",
        "            images, labels = data\n",
        "            images, labels = images.to(device), labels.to(device)\n",
        "            outputs = model(images)\n",
        "            test_loss += loss_fn(outputs, labels).item() * labels.size(0)\n",
        "            _, predicted = torch.max(outputs.data, 1)\n",
        "            total += labels.size(0)\n",
        "            correct += (predicted == labels).sum().item()\n",
        "\n",
        "            progress_bar.update(1)\n",
        "\n",
        "    avg_test_loss = test_loss / len(test_loader.dataset)\n",
        "    accuracy = 100 * correct / total\n",
        "    return avg_test_loss, accuracy\n"
      ]
    },
    {
      "cell_type": "markdown",
      "metadata": {
        "id": "Leg0ADksmHPm"
      },
      "source": [
        "**Here is a step-by-step explanation of the test function:**"
      ]
    },
    {
      "cell_type": "markdown",
      "metadata": {
        "id": "v5spM6iEkElq"
      },
      "source": [
        "-   **size = len(dataloader.dataset):** Get the size of the dataset by getting the length of the dataloader's dataset attribute.\n",
        "-    **num_batches = len(dataloader):** Get the number of batches by getting the length of the dataloader.\n",
        "-    **model.eval():** Set the model to evaluation mode. This is necessary because some layers in the model behave differently during training and evaluation (e.g., dropout or batch normalization).\n",
        "-    **test_loss, correct = 0, 0:** Initialize the test loss and number of correct predictions to 0.\n",
        "-    **with torch.no_grad()::** Enter a block where PyTorch won't track the gradients. This speeds up computation and saves memory.\n",
        "-   **for X, y in dataloader::** Iterate over the batches in the dataloader.\n",
        "-    **X, y = X.to(device), y.to(device):** Move the input data and target labels to the device (e.g., CPU or GPU) being used for computation.\n",
        "-   **pred = model(X):** Get the model's predictions for the input data.\n",
        "-   **test_loss += loss_fn(pred, y).item():** Calculate the loss of the predictions and add it to the running total of test loss.\n",
        "-    **correct += (pred.argmax(1) == y).type(torch.float).sum().item():** Count the number of correct predictions and add it to the running total of correct predictions.\n",
        "-   **test_loss /= num_batches:** Calculate the average test loss over all batches.\n",
        "-    **correct /= size:** Calculate the accuracy by dividing the number of correct predictions by the size of the dataset.\n",
        "-   **print(f\"Test Error: \\n Accuracy: {(100*correct):>0.1f}%, Avg loss: {test_loss:>8f} \\n\"):** Print the test error, including the accuracy and average loss."
      ]
    },
    {
      "cell_type": "markdown",
      "metadata": {
        "id": "ru2IbHS1wHaM"
      },
      "source": [
        "## Training the Model and Evaluating Performance"
      ]
    },
    {
      "cell_type": "code",
      "execution_count": null,
      "metadata": {
        "colab": {
          "base_uri": "https://localhost:8080/",
          "height": 1000
        },
        "id": "1kS8yjFC-Nn_",
        "outputId": "8903bcbe-696a-40de-945c-1edbbc2da473"
      },
      "outputs": [
        {
          "name": "stderr",
          "output_type": "stream",
          "text": [
            "100%|██████████| 1875/1875 [00:13<00:00, 140.04it/s]\n",
            "100%|██████████| 313/313 [00:01<00:00, 190.58it/s]\n"
          ]
        },
        {
          "name": "stdout",
          "output_type": "stream",
          "text": [
            "Epoch [1/30], train_loss: 2.2672, test_loss: 2.2190, accuracy: 41.99%\n"
          ]
        },
        {
          "name": "stderr",
          "output_type": "stream",
          "text": [
            "100%|██████████| 1875/1875 [00:13<00:00, 140.42it/s]\n",
            "100%|██████████| 313/313 [00:02<00:00, 126.13it/s]\n"
          ]
        },
        {
          "name": "stdout",
          "output_type": "stream",
          "text": [
            "Epoch [2/30], train_loss: 2.1438, test_loss: 2.0180, accuracy: 50.08%\n"
          ]
        },
        {
          "name": "stderr",
          "output_type": "stream",
          "text": [
            "100%|██████████| 1875/1875 [00:13<00:00, 140.37it/s]\n",
            "100%|██████████| 313/313 [00:01<00:00, 191.20it/s]\n"
          ]
        },
        {
          "name": "stdout",
          "output_type": "stream",
          "text": [
            "Epoch [3/30], train_loss: 1.8437, test_loss: 1.5799, accuracy: 63.82%\n"
          ]
        },
        {
          "name": "stderr",
          "output_type": "stream",
          "text": [
            "100%|██████████| 1875/1875 [00:13<00:00, 140.86it/s]\n",
            "100%|██████████| 313/313 [00:01<00:00, 187.98it/s]\n"
          ]
        },
        {
          "name": "stdout",
          "output_type": "stream",
          "text": [
            "Epoch [4/30], train_loss: 1.3725, test_loss: 1.0920, accuracy: 76.48%\n"
          ]
        },
        {
          "name": "stderr",
          "output_type": "stream",
          "text": [
            "100%|██████████| 1875/1875 [00:22<00:00, 85.04it/s]\n",
            "100%|██████████| 313/313 [00:03<00:00, 88.78it/s] \n"
          ]
        },
        {
          "name": "stdout",
          "output_type": "stream",
          "text": [
            "Epoch [5/30], train_loss: 1.0086, test_loss: 0.8088, accuracy: 80.90%\n"
          ]
        },
        {
          "name": "stderr",
          "output_type": "stream",
          "text": [
            "100%|██████████| 1875/1875 [00:13<00:00, 138.25it/s]\n",
            "100%|██████████| 313/313 [00:01<00:00, 190.03it/s]\n"
          ]
        },
        {
          "name": "stdout",
          "output_type": "stream",
          "text": [
            "Epoch [6/30], train_loss: 0.8128, test_loss: 0.6609, accuracy: 83.19%\n"
          ]
        },
        {
          "name": "stderr",
          "output_type": "stream",
          "text": [
            "100%|██████████| 1875/1875 [00:13<00:00, 139.51it/s]\n",
            "100%|██████████| 313/313 [00:02<00:00, 151.68it/s]\n"
          ]
        },
        {
          "name": "stdout",
          "output_type": "stream",
          "text": [
            "Epoch [7/30], train_loss: 0.7006, test_loss: 0.5732, accuracy: 85.02%\n"
          ]
        },
        {
          "name": "stderr",
          "output_type": "stream",
          "text": [
            "100%|██████████| 1875/1875 [00:13<00:00, 135.71it/s]\n",
            "100%|██████████| 313/313 [00:01<00:00, 185.29it/s]\n"
          ]
        },
        {
          "name": "stdout",
          "output_type": "stream",
          "text": [
            "Epoch [8/30], train_loss: 0.6304, test_loss: 0.5155, accuracy: 86.47%\n"
          ]
        },
        {
          "name": "stderr",
          "output_type": "stream",
          "text": [
            "100%|██████████| 1875/1875 [00:13<00:00, 136.90it/s]\n",
            "100%|██████████| 313/313 [00:01<00:00, 184.74it/s]\n"
          ]
        },
        {
          "name": "stdout",
          "output_type": "stream",
          "text": [
            "Epoch [9/30], train_loss: 0.5813, test_loss: 0.4750, accuracy: 87.39%\n"
          ]
        },
        {
          "name": "stderr",
          "output_type": "stream",
          "text": [
            "100%|██████████| 1875/1875 [00:13<00:00, 138.56it/s]\n",
            "100%|██████████| 313/313 [00:01<00:00, 183.28it/s]\n"
          ]
        },
        {
          "name": "stdout",
          "output_type": "stream",
          "text": [
            "Epoch [10/30], train_loss: 0.5443, test_loss: 0.4446, accuracy: 88.11%\n"
          ]
        },
        {
          "name": "stderr",
          "output_type": "stream",
          "text": [
            "100%|██████████| 1875/1875 [00:15<00:00, 121.87it/s]\n",
            "100%|██████████| 313/313 [00:02<00:00, 120.73it/s]\n"
          ]
        },
        {
          "name": "stdout",
          "output_type": "stream",
          "text": [
            "Epoch [11/30], train_loss: 0.5185, test_loss: 0.4210, accuracy: 88.61%\n"
          ]
        },
        {
          "name": "stderr",
          "output_type": "stream",
          "text": [
            "100%|██████████| 1875/1875 [00:15<00:00, 124.92it/s]\n",
            "100%|██████████| 313/313 [00:01<00:00, 175.05it/s]\n"
          ]
        },
        {
          "name": "stdout",
          "output_type": "stream",
          "text": [
            "Epoch [12/30], train_loss: 0.4914, test_loss: 0.4017, accuracy: 88.98%\n"
          ]
        },
        {
          "name": "stderr",
          "output_type": "stream",
          "text": [
            "100%|██████████| 1875/1875 [00:13<00:00, 140.40it/s]\n",
            "100%|██████████| 313/313 [00:01<00:00, 187.31it/s]\n"
          ]
        },
        {
          "name": "stdout",
          "output_type": "stream",
          "text": [
            "Epoch [13/30], train_loss: 0.4724, test_loss: 0.3866, accuracy: 89.20%\n"
          ]
        },
        {
          "name": "stderr",
          "output_type": "stream",
          "text": [
            "100%|██████████| 1875/1875 [00:13<00:00, 139.99it/s]\n",
            "100%|██████████| 313/313 [00:01<00:00, 177.86it/s]\n"
          ]
        },
        {
          "name": "stdout",
          "output_type": "stream",
          "text": [
            "Epoch [14/30], train_loss: 0.4547, test_loss: 0.3729, accuracy: 89.60%\n"
          ]
        },
        {
          "name": "stderr",
          "output_type": "stream",
          "text": [
            "100%|██████████| 1875/1875 [00:13<00:00, 134.32it/s]\n",
            "100%|██████████| 313/313 [00:02<00:00, 145.72it/s]\n"
          ]
        },
        {
          "name": "stdout",
          "output_type": "stream",
          "text": [
            "Epoch [15/30], train_loss: 0.4393, test_loss: 0.3621, accuracy: 89.89%\n"
          ]
        },
        {
          "name": "stderr",
          "output_type": "stream",
          "text": [
            "100%|██████████| 1875/1875 [00:13<00:00, 137.72it/s]\n",
            "100%|██████████| 313/313 [00:01<00:00, 186.01it/s]\n"
          ]
        },
        {
          "name": "stdout",
          "output_type": "stream",
          "text": [
            "Epoch [16/30], train_loss: 0.4252, test_loss: 0.3512, accuracy: 90.12%\n"
          ]
        },
        {
          "name": "stderr",
          "output_type": "stream",
          "text": [
            "100%|██████████| 1875/1875 [00:13<00:00, 138.37it/s]\n",
            "100%|██████████| 313/313 [00:01<00:00, 183.12it/s]\n"
          ]
        },
        {
          "name": "stdout",
          "output_type": "stream",
          "text": [
            "Epoch [17/30], train_loss: 0.4156, test_loss: 0.3423, accuracy: 90.37%\n"
          ]
        },
        {
          "name": "stderr",
          "output_type": "stream",
          "text": [
            "100%|██████████| 1875/1875 [00:13<00:00, 138.82it/s]\n",
            "100%|██████████| 313/313 [00:01<00:00, 183.90it/s]\n"
          ]
        },
        {
          "name": "stdout",
          "output_type": "stream",
          "text": [
            "Epoch [18/30], train_loss: 0.4057, test_loss: 0.3342, accuracy: 90.64%\n"
          ]
        },
        {
          "name": "stderr",
          "output_type": "stream",
          "text": [
            "100%|██████████| 1875/1875 [00:13<00:00, 137.85it/s]\n",
            "100%|██████████| 313/313 [00:02<00:00, 134.96it/s]\n"
          ]
        },
        {
          "name": "stdout",
          "output_type": "stream",
          "text": [
            "Epoch [19/30], train_loss: 0.3973, test_loss: 0.3269, accuracy: 90.82%\n"
          ]
        },
        {
          "name": "stderr",
          "output_type": "stream",
          "text": [
            "100%|██████████| 1875/1875 [00:13<00:00, 139.97it/s]\n",
            "100%|██████████| 313/313 [00:01<00:00, 187.88it/s]\n"
          ]
        },
        {
          "name": "stdout",
          "output_type": "stream",
          "text": [
            "Epoch [20/30], train_loss: 0.3886, test_loss: 0.3208, accuracy: 90.99%\n"
          ]
        },
        {
          "name": "stderr",
          "output_type": "stream",
          "text": [
            "100%|██████████| 1875/1875 [00:13<00:00, 140.71it/s]\n",
            "100%|██████████| 313/313 [00:01<00:00, 182.85it/s]\n"
          ]
        },
        {
          "name": "stdout",
          "output_type": "stream",
          "text": [
            "Epoch [21/30], train_loss: 0.3817, test_loss: 0.3138, accuracy: 91.20%\n"
          ]
        },
        {
          "name": "stderr",
          "output_type": "stream",
          "text": [
            "100%|██████████| 1875/1875 [00:13<00:00, 140.71it/s]\n",
            "100%|██████████| 313/313 [00:01<00:00, 186.62it/s]\n"
          ]
        },
        {
          "name": "stdout",
          "output_type": "stream",
          "text": [
            "Epoch [22/30], train_loss: 0.3706, test_loss: 0.3083, accuracy: 91.19%\n"
          ]
        },
        {
          "name": "stderr",
          "output_type": "stream",
          "text": [
            "100%|██████████| 1875/1875 [00:13<00:00, 139.85it/s]\n",
            "100%|██████████| 313/313 [00:02<00:00, 150.16it/s]\n"
          ]
        },
        {
          "name": "stdout",
          "output_type": "stream",
          "text": [
            "Epoch [23/30], train_loss: 0.3650, test_loss: 0.3020, accuracy: 91.34%\n"
          ]
        },
        {
          "name": "stderr",
          "output_type": "stream",
          "text": [
            "100%|██████████| 1875/1875 [00:13<00:00, 135.82it/s]\n",
            "100%|██████████| 313/313 [00:01<00:00, 187.57it/s]\n"
          ]
        },
        {
          "name": "stdout",
          "output_type": "stream",
          "text": [
            "Epoch [24/30], train_loss: 0.3570, test_loss: 0.2963, accuracy: 91.49%\n"
          ]
        },
        {
          "name": "stderr",
          "output_type": "stream",
          "text": [
            "100%|██████████| 1875/1875 [00:13<00:00, 140.15it/s]\n",
            "100%|██████████| 313/313 [00:01<00:00, 173.42it/s]\n"
          ]
        },
        {
          "name": "stdout",
          "output_type": "stream",
          "text": [
            "Epoch [25/30], train_loss: 0.3518, test_loss: 0.2910, accuracy: 91.62%\n"
          ]
        },
        {
          "name": "stderr",
          "output_type": "stream",
          "text": [
            "100%|██████████| 1875/1875 [00:13<00:00, 141.21it/s]\n",
            "100%|██████████| 313/313 [00:01<00:00, 192.50it/s]\n"
          ]
        },
        {
          "name": "stdout",
          "output_type": "stream",
          "text": [
            "Epoch [26/30], train_loss: 0.3450, test_loss: 0.2859, accuracy: 91.79%\n"
          ]
        },
        {
          "name": "stderr",
          "output_type": "stream",
          "text": [
            "100%|██████████| 1875/1875 [00:13<00:00, 140.06it/s]\n",
            "100%|██████████| 313/313 [00:01<00:00, 186.82it/s]\n"
          ]
        },
        {
          "name": "stdout",
          "output_type": "stream",
          "text": [
            "Epoch [27/30], train_loss: 0.3383, test_loss: 0.2812, accuracy: 91.70%\n"
          ]
        },
        {
          "name": "stderr",
          "output_type": "stream",
          "text": [
            "100%|██████████| 1875/1875 [00:13<00:00, 137.47it/s]\n",
            "100%|██████████| 313/313 [00:02<00:00, 139.32it/s]\n"
          ]
        },
        {
          "name": "stdout",
          "output_type": "stream",
          "text": [
            "Epoch [28/30], train_loss: 0.3355, test_loss: 0.2767, accuracy: 91.87%\n"
          ]
        },
        {
          "name": "stderr",
          "output_type": "stream",
          "text": [
            "100%|██████████| 1875/1875 [00:13<00:00, 140.15it/s]\n",
            "100%|██████████| 313/313 [00:01<00:00, 192.53it/s]\n"
          ]
        },
        {
          "name": "stdout",
          "output_type": "stream",
          "text": [
            "Epoch [29/30], train_loss: 0.3282, test_loss: 0.2716, accuracy: 92.08%\n"
          ]
        },
        {
          "name": "stderr",
          "output_type": "stream",
          "text": [
            "100%|██████████| 1875/1875 [00:13<00:00, 139.94it/s]\n",
            "100%|██████████| 313/313 [00:01<00:00, 188.59it/s]\n"
          ]
        },
        {
          "name": "stdout",
          "output_type": "stream",
          "text": [
            "Epoch [30/30], train_loss: 0.3194, test_loss: 0.2675, accuracy: 92.08%\n"
          ]
        },
        {
          "name": "stderr",
          "output_type": "stream",
          "text": [
            "100%|██████████| 313/313 [00:01<00:00, 184.00it/s]\n"
          ]
        },
        {
          "name": "stdout",
          "output_type": "stream",
          "text": [
            "Test loss: 0.2675, accuracy: 92.08%\n"
          ]
        },
        {
          "data": {
            "image/png": "[encoded data removed]",
            "text/plain": [
              "<Figure size 432x288 with 1 Axes>"
            ]
          },
          "metadata": {},
          "output_type": "display_data"
        },
        {
          "data": {
            "image/png": "[encoded data removed]",
            "text/plain": [
              "<Figure size 432x288 with 1 Axes>"
            ]
          },
          "metadata": {},
          "output_type": "display_data"
        }
      ],
      "source": [
        "# Move model to device\n",
        "model.to(device)\n",
        "\n",
        "train_losses = []\n",
        "test_losses = []\n",
        "accuracies = []\n",
        "# Train the model\n",
        "epochs = 30\n",
        "for epoch in range(epochs):\n",
        "    # train the model\n",
        "    train_loss = train(model, device, train_dataloader, optimizer, loss_fn)\n",
        "    train_losses.append(train_loss)\n",
        "    # Evaluate the model\n",
        "    test_loss, accuracy = test(model, device, test_dataloader, loss_fn)\n",
        "    test_losses.append(test_loss)\n",
        "    accuracies.append(accuracy)\n",
        "    print(f\"Epoch [{epoch+1}/{epochs}], train_loss: {train_loss:.4f}, test_loss: {test_loss:.4f}, accuracy: {accuracy:.2f}%\")\n",
        "    \n",
        "# Finally, Evaluate the model\n",
        "test_loss, accuracy = test(model, device, test_dataloader, loss_fn)\n",
        "print(f\"Test loss: {test_loss:.4f}, accuracy: {accuracy:.2f}%\")\n",
        "\n",
        "import matplotlib.pyplot as plt\n",
        "# Plot the train loss and test loss\n",
        "plt.plot(range(epochs), train_losses, label='Train Loss')\n",
        "plt.plot(range(epochs), test_losses, label='Test Loss')\n",
        "plt.title(\"Train and Test Loss vs. Num_Of_Epochs\")\n",
        "plt.xlabel('Epoch')\n",
        "plt.ylabel('Loss')\n",
        "plt.legend()\n",
        "plt.show()\n",
        "\n",
        "# Plot the accuracy\n",
        "plt.plot(range(epochs), accuracies, label='Accuracy')\n",
        "plt.title(\"Accurcay vs. Num_Of_Epochs\")\n",
        "plt.xlabel('Epoch')\n",
        "plt.ylabel('Accuracy')\n",
        "plt.legend()\n",
        "plt.show();"
      ]
    },
    {
      "cell_type": "code",
      "execution_count": null,
      "metadata": {
        "id": "qG5OoJZg3tZl"
      },
      "outputs": [],
      "source": []
    },
    {
      "cell_type": "code",
      "source": [],
      "metadata": {
        "id": "2FlRZPvTjRG0"
      },
      "execution_count": null,
      "outputs": []
    },
    {
      "cell_type": "code",
      "source": [
        "stop"
      ],
      "metadata": {
        "id": "QVT2k-1RjQ44"
      },
      "execution_count": null,
      "outputs": []
    },
    {
      "cell_type": "markdown",
      "metadata": {
        "id": "Snz1C9OWoAqh"
      },
      "source": [
        "________________"
      ]
    },
    {
      "cell_type": "markdown",
      "metadata": {
        "id": "GLBBt_Wdcp4U"
      },
      "source": [
        "# <center>Check The Performance for Different Parameter Values</center>"
      ]
    },
    {
      "cell_type": "code",
      "execution_count": null,
      "metadata": {
        "id": "SW0B3xsOVAsO"
      },
      "outputs": [],
      "source": [
        "import pandas as pd\n",
        "pd.options.display.max_rows = 999\n",
        "pd.options.display.max_columns = 999\n",
        "pd.options.display.width = 0"
      ]
    },
    {
      "cell_type": "code",
      "execution_count": null,
      "metadata": {
        "colab": {
          "background_save": true
        },
        "id": "3utqjljSQ-tR"
      },
      "outputs": [],
      "source": [
        "#-----------------------------------------------------------------------------------------------------------------------------------\n",
        "# Create an empty DataFrame\n",
        "results_df = pd.DataFrame(columns=['train_loss', 'test_loss', 'accuracy', 'optimizer', 'no_of_epochs', 'batch_size'])\n",
        "\n",
        "#-----------------------------------------------------------------------------------------------------------------------------------\n",
        "# Create data loaders to batch and shuffle the data\n",
        "# from torch.utils.data import DataLoader\n",
        "# batch_size = 64\n",
        "train_dataloader = DataLoader(train_dataset, batch_size=batch_size, shuffle=True)\n",
        "test_dataloader = DataLoader(test_dataset, batch_size=batch_size, shuffle=True)\n",
        "batch_sizes=[16, 32, 64, 128, 256, 512]\n",
        "\n",
        "#-----------------------------------------------------------------------------------------------------------------------------------\n",
        "# Define the Neural Network Architecture\n",
        "class Net_MNIST(nn.Module):\n",
        "    def __init__(self):\n",
        "        super(Net_MNIST,self).__init__()\n",
        "        self.dropout_1 = nn.Dropout(0.1)\n",
        "        self.dropout_2 = nn.Dropout(0.2)\n",
        "        self.fc1 = nn.Linear(in_features=784, out_features=256, bias=True)   # 1st Hidden layer\n",
        "        self.fc2 = nn.Linear(256, 64)    # 4th Hidden layer\n",
        "        self.fc3 = nn.Linear(64, 10)  #output layer\n",
        "\n",
        "    def forward(self, x):\n",
        "        x = x.view(-1, 784)  # Flatten input image\n",
        "        x = torch.relu(self.fc1(x))  # add hidden layer, with relu activation function\n",
        "        x = self.dropout_2(x)  # add dropout layer\n",
        "        x = torch.relu(self.fc2(x))  # add hidden layer, with relu activation function\n",
        "        x = self.dropout_1(x)\n",
        "        x = self.fc3(x) # add output layer\n",
        "        return x\n",
        "\n",
        "\n",
        "#---------------------------------------------------------------------------------------------------------------------------------\n",
        "# Instantiate the neural network model\n",
        "model = Net_MNIST().to(device)\n",
        "print(model)\n",
        "#---------------------------------------------------------------------------------------------------------------------------------\n",
        "#---------------------------------------------------------------------------------------------------------------------------------\n",
        "from tqdm import tqdm\n",
        "\n",
        "def train(model, device, train_loader, optimizer, loss_fn):\n",
        "    model.train()\n",
        "    epoch_loss = 0.0\n",
        "    with tqdm(total=len(train_loader)) as progress_bar:\n",
        "        for i, (inputs, labels) in enumerate(train_loader, 0):\n",
        "            inputs, labels = inputs.to(device), labels.to(device)\n",
        "\n",
        "            # Compute prediction and loss\n",
        "            outputs = model(inputs)\n",
        "            loss = loss_fn(outputs, labels)\n",
        "\n",
        "            # Backpropagation\n",
        "            optimizer.zero_grad()\n",
        "            loss.backward()\n",
        "            optimizer.step()\n",
        "            epoch_loss += loss.item()\n",
        "\n",
        "            progress_bar.update(1)\n",
        "\n",
        "    avg_epoch_loss = epoch_loss / len(train_loader)\n",
        "    return avg_epoch_loss\n",
        "#---------------------------------------------------------------------------------------------------------------------------------\n",
        "def test(model, device, test_loader, loss_fn):\n",
        "    model.eval()\n",
        "    test_loss = 0\n",
        "    correct = 0\n",
        "    total = 0\n",
        "    with torch.no_grad(), tqdm(total=len(test_loader)) as progress_bar:\n",
        "        for data in test_loader:\n",
        "            images, labels = data\n",
        "            images, labels = images.to(device), labels.to(device)\n",
        "            outputs = model(images)\n",
        "            test_loss += loss_fn(outputs, labels).item() * labels.size(0)\n",
        "            _, predicted = torch.max(outputs.data, 1)\n",
        "            total += labels.size(0)\n",
        "            correct += (predicted == labels).sum().item()\n",
        "\n",
        "            progress_bar.update(1)\n",
        "\n",
        "    avg_test_loss = test_loss / len(test_loader.dataset)\n",
        "    accuracy = 100 * correct / total\n",
        "    return avg_test_loss, accuracy\n",
        "\n",
        "#----------------------------------------------------------------------------------------------------------------------------------\n",
        "#----------------------------------------------------------------------------------------------------------------------------------\n",
        "learning_rate = 1e-3\n",
        "# Initialize the loss function\n",
        "loss_fn = nn.CrossEntropyLoss()\n",
        "# optimizer\n",
        "optimizers = [torch.optim.SGD(model.parameters(), lr=learning_rate, momentum=0.9),torch.optim.Adam(model.parameters(), lr=0.001),\n",
        "              torch.optim.Adagrad(model.parameters(), lr=0.01),optim.RMSprop(model.parameters(), lr=0.001)]\n",
        "epochs_list = [20,40,60,80,100]\n",
        "#---------------------------------------------------------------------------------------------------------------------------------\n",
        "\n",
        "# Train the model\n",
        "# Loop over optimizers\n",
        "for i_optimizer in range(len(optimizers)):\n",
        "\n",
        "    # iterate over different batch sizes\n",
        "    for batch_size in batch_sizes:\n",
        "        batch_size = batch_size\n",
        "\n",
        "        # Loop over epochs\n",
        "        for epochs in epochs_list:\n",
        "            train_dataloader = DataLoader(train_dataset, batch_size=batch_size, shuffle=True)\n",
        "            test_dataloader = DataLoader(test_dataset, batch_size=batch_size, shuffle=True)\n",
        "\n",
        "            # Reset the weights and optimizer for each run\n",
        "            model = Net_MNIST().to(device)\n",
        "            for module in model.modules():\n",
        "                \"\"\"Reset the weights of a linear layer\"\"\"\n",
        "                if isinstance(module, nn.Linear):\n",
        "                    module.reset_parameters()\n",
        "\n",
        "            # make optimizer instances\n",
        "            # make optimizer instances\n",
        "            optimizer_instance = [torch.optim.SGD(model.parameters(), lr=learning_rate, momentum=0.9),\n",
        "                                  torch.optim.Adam(model.parameters(), lr=0.001),\n",
        "                                  torch.optim.Adagrad(model.parameters(), lr=0.01),\n",
        "                                  optim.RMSprop(model.parameters(), lr=0.001)][i_optimizer]\n",
        "            optimizer_name = optimizer_instance.__class__.__name__        \n",
        "\n",
        "\n",
        "            # Loop over each epoch and train the model\n",
        "            for epoch in range(epochs):\n",
        "\n",
        "                # train the model\n",
        "                train_loss = train(model, device, train_dataloader, optimizer_instance, loss_fn)\n",
        "                # Evaluate the model\n",
        "                test_loss, accuracy = test(model, device, test_dataloader, loss_fn)\n",
        "                print(f\"Epoch [{epoch+1}/{epochs}], train_loss: {train_loss:.4f}, test_loss: {test_loss:.4f}, accuracy: {accuracy:.2f}%\")\n",
        "            \n",
        "            # Evaluate the model after training and append results to the DataFrame\n",
        "            test_loss, accuracy = test(model, device, test_dataloader, loss_fn)\n",
        "\n",
        "            # Append results to dataframe\n",
        "            results_df = results_df.append({'train_loss': train_loss,\n",
        "                                            'test_loss': test_loss, \n",
        "                                            'accuracy': accuracy, \n",
        "                                            'optimizer': optimizer_name,\n",
        "                                            'no_of_epochs': epochs, \n",
        "                                            'batch_size': batch_size}, ignore_index=True)\n",
        "            \n",
        "            print(f\"Test loss: {test_loss:.4f}, accuracy: {accuracy:.2f}%\")\n",
        "\n",
        "            print(f\"------- this was for epochs = {epochs}------now for next epoch------\")\n",
        "            print()\n",
        "        print(f\"-------This was for Batch Size: {batch_size}------- Now for next Batch Size-------\")\n",
        "        print()\n",
        "    print(f\"_____This was for optimizer: {optimizer_name} _______ now for next optimizer_____\")\n",
        "    print()\n"
      ]
    },
    {
      "cell_type": "code",
      "execution_count": null,
      "metadata": {
        "id": "YNX4DfYCX8P0"
      },
      "outputs": [],
      "source": [
        "# group the DataFrame by optimizer and batch size\n",
        "grouped_df = results_df.groupby(['optimizer', 'batch_size'])\n",
        "\n",
        "# apply the style to each group and concatenate the results\n",
        "df_final = pd.concat([group.apply(lambda x: x.style.set_precision(2).background_gradient(cmap='coolwarm')) for name, group in grouped_df])\n",
        "\n",
        "# display the styled DataFrame\n",
        "df_final"
      ]
    },
    {
      "cell_type": "code",
      "execution_count": null,
      "metadata": {
        "id": "jBE2ihYDKjFx"
      },
      "outputs": [],
      "source": [
        "# save dataframe to excel file\n",
        "df_final.to_excel('data.xlsx', index=False)"
      ]
    },
    {
      "cell_type": "code",
      "execution_count": null,
      "metadata": {
        "id": "19FESG4zmnIR"
      },
      "outputs": [],
      "source": [
        "import matplotlib.pyplot as plt\n",
        "\n",
        "# Group the results by each parameter\n",
        "grouped_results = results_df.groupby(['optimizer', 'no_of_epochs', 'batch_size'])\n",
        "\n",
        "# Initialize the plot\n",
        "fig, axes = plt.subplots(nrows=1, ncols=3, figsize=(18,8), sharey=True)\n",
        "\n",
        "# Plot each result as a line in the corresponding subplot\n",
        "for i, (param, group) in enumerate(grouped_results):\n",
        "    ax = axes[i]\n",
        "    for metric in ['accuracy', 'test_loss', 'train_loss']:\n",
        "        ax.plot(group[param[0]], group[metric], label=metric)\n",
        "    ax.set_xlabel(param[0])\n",
        "    ax.set_title(f\"{param[0]}={param[1]}, batch_size={param[2]}\")\n",
        "    ax.legend()\n",
        "\n",
        "# Add a common y-axis label\n",
        "fig.text(0.06, 0.5, 'Value', ha='center', va='center', rotation='vertical')\n",
        "\n",
        "# Save the plot to disk\n",
        "plt.savefig('my_figures.png', dpi=300)\n",
        "\n",
        "# Show the plot\n",
        "plt.show();"
      ]
    },
    {
      "cell_type": "code",
      "execution_count": null,
      "metadata": {
        "id": "edJ1WHJyYAmI"
      },
      "outputs": [],
      "source": [
        "#END"
      ]
    }
  ],
  "metadata": {
    "accelerator": "GPU",
    "colab": {
      "provenance": []
    },
    "gpuClass": "standard",
    "kernelspec": {
      "display_name": "Python 3",
      "name": "python3"
    },
    "language_info": {
      "name": "python"
    },
    "widgets": {
      "application/vnd.jupyter.widget-state+json": {
        "02a63390708c4dea968b5cd6e2be5b0a": {
          "model_module": "@jupyter-widgets/base",
          "model_module_version": "1.2.0",
          "model_name": "LayoutModel",
          "state": {
            "_model_module": "@jupyter-widgets/base",
            "_model_module_version": "1.2.0",
            "_model_name": "LayoutModel",
            "_view_count": null,
            "_view_module": "@jupyter-widgets/base",
            "_view_module_version": "1.2.0",
            "_view_name": "LayoutView",
            "align_content": null,
            "align_items": null,
            "align_self": null,
            "border": null,
            "bottom": null,
            "display": null,
            "flex": null,
            "flex_flow": null,
            "grid_area": null,
            "grid_auto_columns": null,
            "grid_auto_flow": null,
            "grid_auto_rows": null,
            "grid_column": null,
            "grid_gap": null,
            "grid_row": null,
            "grid_template_areas": null,
            "grid_template_columns": null,
            "grid_template_rows": null,
            "height": null,
            "justify_content": null,
            "justify_items": null,
            "left": null,
            "margin": null,
            "max_height": null,
            "max_width": null,
            "min_height": null,
            "min_width": null,
            "object_fit": null,
            "object_position": null,
            "order": null,
            "overflow": null,
            "overflow_x": null,
            "overflow_y": null,
            "padding": null,
            "right": null,
            "top": null,
            "visibility": null,
            "width": null
          }
        },
        "086a6bfb18124fdbaccbe4163d1968fe": {
          "model_module": "@jupyter-widgets/base",
          "model_module_version": "1.2.0",
          "model_name": "LayoutModel",
          "state": {
            "_model_module": "@jupyter-widgets/base",
            "_model_module_version": "1.2.0",
            "_model_name": "LayoutModel",
            "_view_count": null,
            "_view_module": "@jupyter-widgets/base",
            "_view_module_version": "1.2.0",
            "_view_name": "LayoutView",
            "align_content": null,
            "align_items": null,
            "align_self": null,
            "border": null,
            "bottom": null,
            "display": null,
            "flex": null,
            "flex_flow": null,
            "grid_area": null,
            "grid_auto_columns": null,
            "grid_auto_flow": null,
            "grid_auto_rows": null,
            "grid_column": null,
            "grid_gap": null,
            "grid_row": null,
            "grid_template_areas": null,
            "grid_template_columns": null,
            "grid_template_rows": null,
            "height": null,
            "justify_content": null,
            "justify_items": null,
            "left": null,
            "margin": null,
            "max_height": null,
            "max_width": null,
            "min_height": null,
            "min_width": null,
            "object_fit": null,
            "object_position": null,
            "order": null,
            "overflow": null,
            "overflow_x": null,
            "overflow_y": null,
            "padding": null,
            "right": null,
            "top": null,
            "visibility": null,
            "width": null
          }
        },
        "1173e3e141c044659dc3df6334711df4": {
          "model_module": "@jupyter-widgets/controls",
          "model_module_version": "1.5.0",
          "model_name": "HTMLModel",
          "state": {
            "_dom_classes": [],
            "_model_module": "@jupyter-widgets/controls",
            "_model_module_version": "1.5.0",
            "_model_name": "HTMLModel",
            "_view_count": null,
            "_view_module": "@jupyter-widgets/controls",
            "_view_module_version": "1.5.0",
            "_view_name": "HTMLView",
            "description": "",
            "description_tooltip": null,
            "layout": "IPY_MODEL_1bbc1924198544c68ff98bd03426a83a",
            "placeholder": "​",
            "style": "IPY_MODEL_7975729bbcff4f238c186124321bd12e",
            "value": " 4542/4542 [00:00&lt;00:00, 199273.31it/s]"
          }
        },
        "180c51f837f2401b9b696c420bfca2d2": {
          "model_module": "@jupyter-widgets/controls",
          "model_module_version": "1.5.0",
          "model_name": "HBoxModel",
          "state": {
            "_dom_classes": [],
            "_model_module": "@jupyter-widgets/controls",
            "_model_module_version": "1.5.0",
            "_model_name": "HBoxModel",
            "_view_count": null,
            "_view_module": "@jupyter-widgets/controls",
            "_view_module_version": "1.5.0",
            "_view_name": "HBoxView",
            "box_style": "",
            "children": [
              "IPY_MODEL_7bd4226d48044f0a942ee9f914eeba8d",
              "IPY_MODEL_ec05d0fedd7b4370a9c0a9747fdec797",
              "IPY_MODEL_1173e3e141c044659dc3df6334711df4"
            ],
            "layout": "IPY_MODEL_086a6bfb18124fdbaccbe4163d1968fe"
          }
        },
        "1bbc1924198544c68ff98bd03426a83a": {
          "model_module": "@jupyter-widgets/base",
          "model_module_version": "1.2.0",
          "model_name": "LayoutModel",
          "state": {
            "_model_module": "@jupyter-widgets/base",
            "_model_module_version": "1.2.0",
            "_model_name": "LayoutModel",
            "_view_count": null,
            "_view_module": "@jupyter-widgets/base",
            "_view_module_version": "1.2.0",
            "_view_name": "LayoutView",
            "align_content": null,
            "align_items": null,
            "align_self": null,
            "border": null,
            "bottom": null,
            "display": null,
            "flex": null,
            "flex_flow": null,
            "grid_area": null,
            "grid_auto_columns": null,
            "grid_auto_flow": null,
            "grid_auto_rows": null,
            "grid_column": null,
            "grid_gap": null,
            "grid_row": null,
            "grid_template_areas": null,
            "grid_template_columns": null,
            "grid_template_rows": null,
            "height": null,
            "justify_content": null,
            "justify_items": null,
            "left": null,
            "margin": null,
            "max_height": null,
            "max_width": null,
            "min_height": null,
            "min_width": null,
            "object_fit": null,
            "object_position": null,
            "order": null,
            "overflow": null,
            "overflow_x": null,
            "overflow_y": null,
            "padding": null,
            "right": null,
            "top": null,
            "visibility": null,
            "width": null
          }
        },
        "287a494499cc442f882586970420baca": {
          "model_module": "@jupyter-widgets/controls",
          "model_module_version": "1.5.0",
          "model_name": "DescriptionStyleModel",
          "state": {
            "_model_module": "@jupyter-widgets/controls",
            "_model_module_version": "1.5.0",
            "_model_name": "DescriptionStyleModel",
            "_view_count": null,
            "_view_module": "@jupyter-widgets/base",
            "_view_module_version": "1.2.0",
            "_view_name": "StyleView",
            "description_width": ""
          }
        },
        "296339b6e4d04d7fb8b6771a4e2477b4": {
          "model_module": "@jupyter-widgets/controls",
          "model_module_version": "1.5.0",
          "model_name": "HBoxModel",
          "state": {
            "_dom_classes": [],
            "_model_module": "@jupyter-widgets/controls",
            "_model_module_version": "1.5.0",
            "_model_name": "HBoxModel",
            "_view_count": null,
            "_view_module": "@jupyter-widgets/controls",
            "_view_module_version": "1.5.0",
            "_view_name": "HBoxView",
            "box_style": "",
            "children": [
              "IPY_MODEL_c41a143a7e5945168872145ba9234c0c",
              "IPY_MODEL_f69f13329a394de6a4b620d11e66ce4d",
              "IPY_MODEL_efc860d0616744f9a6aea39bc09bc1c6"
            ],
            "layout": "IPY_MODEL_afe12df60d354f509bcda949e0509d04"
          }
        },
        "3cbd622613584ab689c1ee58ff767d26": {
          "model_module": "@jupyter-widgets/base",
          "model_module_version": "1.2.0",
          "model_name": "LayoutModel",
          "state": {
            "_model_module": "@jupyter-widgets/base",
            "_model_module_version": "1.2.0",
            "_model_name": "LayoutModel",
            "_view_count": null,
            "_view_module": "@jupyter-widgets/base",
            "_view_module_version": "1.2.0",
            "_view_name": "LayoutView",
            "align_content": null,
            "align_items": null,
            "align_self": null,
            "border": null,
            "bottom": null,
            "display": null,
            "flex": null,
            "flex_flow": null,
            "grid_area": null,
            "grid_auto_columns": null,
            "grid_auto_flow": null,
            "grid_auto_rows": null,
            "grid_column": null,
            "grid_gap": null,
            "grid_row": null,
            "grid_template_areas": null,
            "grid_template_columns": null,
            "grid_template_rows": null,
            "height": null,
            "justify_content": null,
            "justify_items": null,
            "left": null,
            "margin": null,
            "max_height": null,
            "max_width": null,
            "min_height": null,
            "min_width": null,
            "object_fit": null,
            "object_position": null,
            "order": null,
            "overflow": null,
            "overflow_x": null,
            "overflow_y": null,
            "padding": null,
            "right": null,
            "top": null,
            "visibility": null,
            "width": null
          }
        },
        "3dc016eb2c3f4dc3a5ac52fe1a86bebf": {
          "model_module": "@jupyter-widgets/base",
          "model_module_version": "1.2.0",
          "model_name": "LayoutModel",
          "state": {
            "_model_module": "@jupyter-widgets/base",
            "_model_module_version": "1.2.0",
            "_model_name": "LayoutModel",
            "_view_count": null,
            "_view_module": "@jupyter-widgets/base",
            "_view_module_version": "1.2.0",
            "_view_name": "LayoutView",
            "align_content": null,
            "align_items": null,
            "align_self": null,
            "border": null,
            "bottom": null,
            "display": null,
            "flex": null,
            "flex_flow": null,
            "grid_area": null,
            "grid_auto_columns": null,
            "grid_auto_flow": null,
            "grid_auto_rows": null,
            "grid_column": null,
            "grid_gap": null,
            "grid_row": null,
            "grid_template_areas": null,
            "grid_template_columns": null,
            "grid_template_rows": null,
            "height": null,
            "justify_content": null,
            "justify_items": null,
            "left": null,
            "margin": null,
            "max_height": null,
            "max_width": null,
            "min_height": null,
            "min_width": null,
            "object_fit": null,
            "object_position": null,
            "order": null,
            "overflow": null,
            "overflow_x": null,
            "overflow_y": null,
            "padding": null,
            "right": null,
            "top": null,
            "visibility": null,
            "width": null
          }
        },
        "401f7d6f6aba4ecf8be7cea6fd9698a1": {
          "model_module": "@jupyter-widgets/base",
          "model_module_version": "1.2.0",
          "model_name": "LayoutModel",
          "state": {
            "_model_module": "@jupyter-widgets/base",
            "_model_module_version": "1.2.0",
            "_model_name": "LayoutModel",
            "_view_count": null,
            "_view_module": "@jupyter-widgets/base",
            "_view_module_version": "1.2.0",
            "_view_name": "LayoutView",
            "align_content": null,
            "align_items": null,
            "align_self": null,
            "border": null,
            "bottom": null,
            "display": null,
            "flex": null,
            "flex_flow": null,
            "grid_area": null,
            "grid_auto_columns": null,
            "grid_auto_flow": null,
            "grid_auto_rows": null,
            "grid_column": null,
            "grid_gap": null,
            "grid_row": null,
            "grid_template_areas": null,
            "grid_template_columns": null,
            "grid_template_rows": null,
            "height": null,
            "justify_content": null,
            "justify_items": null,
            "left": null,
            "margin": null,
            "max_height": null,
            "max_width": null,
            "min_height": null,
            "min_width": null,
            "object_fit": null,
            "object_position": null,
            "order": null,
            "overflow": null,
            "overflow_x": null,
            "overflow_y": null,
            "padding": null,
            "right": null,
            "top": null,
            "visibility": null,
            "width": null
          }
        },
        "560d6cb5ce864170b2979556687c24ad": {
          "model_module": "@jupyter-widgets/controls",
          "model_module_version": "1.5.0",
          "model_name": "DescriptionStyleModel",
          "state": {
            "_model_module": "@jupyter-widgets/controls",
            "_model_module_version": "1.5.0",
            "_model_name": "DescriptionStyleModel",
            "_view_count": null,
            "_view_module": "@jupyter-widgets/base",
            "_view_module_version": "1.2.0",
            "_view_name": "StyleView",
            "description_width": ""
          }
        },
        "5613c1119b10410e8badebf372315923": {
          "model_module": "@jupyter-widgets/base",
          "model_module_version": "1.2.0",
          "model_name": "LayoutModel",
          "state": {
            "_model_module": "@jupyter-widgets/base",
            "_model_module_version": "1.2.0",
            "_model_name": "LayoutModel",
            "_view_count": null,
            "_view_module": "@jupyter-widgets/base",
            "_view_module_version": "1.2.0",
            "_view_name": "LayoutView",
            "align_content": null,
            "align_items": null,
            "align_self": null,
            "border": null,
            "bottom": null,
            "display": null,
            "flex": null,
            "flex_flow": null,
            "grid_area": null,
            "grid_auto_columns": null,
            "grid_auto_flow": null,
            "grid_auto_rows": null,
            "grid_column": null,
            "grid_gap": null,
            "grid_row": null,
            "grid_template_areas": null,
            "grid_template_columns": null,
            "grid_template_rows": null,
            "height": null,
            "justify_content": null,
            "justify_items": null,
            "left": null,
            "margin": null,
            "max_height": null,
            "max_width": null,
            "min_height": null,
            "min_width": null,
            "object_fit": null,
            "object_position": null,
            "order": null,
            "overflow": null,
            "overflow_x": null,
            "overflow_y": null,
            "padding": null,
            "right": null,
            "top": null,
            "visibility": null,
            "width": null
          }
        },
        "5ca3d28cf3f946a093ea64b6c1987aec": {
          "model_module": "@jupyter-widgets/base",
          "model_module_version": "1.2.0",
          "model_name": "LayoutModel",
          "state": {
            "_model_module": "@jupyter-widgets/base",
            "_model_module_version": "1.2.0",
            "_model_name": "LayoutModel",
            "_view_count": null,
            "_view_module": "@jupyter-widgets/base",
            "_view_module_version": "1.2.0",
            "_view_name": "LayoutView",
            "align_content": null,
            "align_items": null,
            "align_self": null,
            "border": null,
            "bottom": null,
            "display": null,
            "flex": null,
            "flex_flow": null,
            "grid_area": null,
            "grid_auto_columns": null,
            "grid_auto_flow": null,
            "grid_auto_rows": null,
            "grid_column": null,
            "grid_gap": null,
            "grid_row": null,
            "grid_template_areas": null,
            "grid_template_columns": null,
            "grid_template_rows": null,
            "height": null,
            "justify_content": null,
            "justify_items": null,
            "left": null,
            "margin": null,
            "max_height": null,
            "max_width": null,
            "min_height": null,
            "min_width": null,
            "object_fit": null,
            "object_position": null,
            "order": null,
            "overflow": null,
            "overflow_x": null,
            "overflow_y": null,
            "padding": null,
            "right": null,
            "top": null,
            "visibility": null,
            "width": null
          }
        },
        "6917ece9f11346deb0c70af2a94e1244": {
          "model_module": "@jupyter-widgets/controls",
          "model_module_version": "1.5.0",
          "model_name": "HBoxModel",
          "state": {
            "_dom_classes": [],
            "_model_module": "@jupyter-widgets/controls",
            "_model_module_version": "1.5.0",
            "_model_name": "HBoxModel",
            "_view_count": null,
            "_view_module": "@jupyter-widgets/controls",
            "_view_module_version": "1.5.0",
            "_view_name": "HBoxView",
            "box_style": "",
            "children": [
              "IPY_MODEL_7e2ca0bb7f05401d971043d03d2981eb",
              "IPY_MODEL_f1fa00676f5e4e11b3430fc20f8eba33",
              "IPY_MODEL_8bc894b394b44d20a7e2a6515aee300f"
            ],
            "layout": "IPY_MODEL_a58ba21abb1f4f67bcb1dcd5a9d230bb"
          }
        },
        "6ee6dc51fc2c487890976060771d09b8": {
          "model_module": "@jupyter-widgets/controls",
          "model_module_version": "1.5.0",
          "model_name": "HTMLModel",
          "state": {
            "_dom_classes": [],
            "_model_module": "@jupyter-widgets/controls",
            "_model_module_version": "1.5.0",
            "_model_name": "HTMLModel",
            "_view_count": null,
            "_view_module": "@jupyter-widgets/controls",
            "_view_module_version": "1.5.0",
            "_view_name": "HTMLView",
            "description": "",
            "description_tooltip": null,
            "layout": "IPY_MODEL_9a57d36657434ea4a970d32702139e31",
            "placeholder": "​",
            "style": "IPY_MODEL_e31fcca6218044c3bf7cdd3672e30a80",
            "value": "100%"
          }
        },
        "7975729bbcff4f238c186124321bd12e": {
          "model_module": "@jupyter-widgets/controls",
          "model_module_version": "1.5.0",
          "model_name": "DescriptionStyleModel",
          "state": {
            "_model_module": "@jupyter-widgets/controls",
            "_model_module_version": "1.5.0",
            "_model_name": "DescriptionStyleModel",
            "_view_count": null,
            "_view_module": "@jupyter-widgets/base",
            "_view_module_version": "1.2.0",
            "_view_name": "StyleView",
            "description_width": ""
          }
        },
        "7b3547ead54e42f5a621e8584ab338ae": {
          "model_module": "@jupyter-widgets/base",
          "model_module_version": "1.2.0",
          "model_name": "LayoutModel",
          "state": {
            "_model_module": "@jupyter-widgets/base",
            "_model_module_version": "1.2.0",
            "_model_name": "LayoutModel",
            "_view_count": null,
            "_view_module": "@jupyter-widgets/base",
            "_view_module_version": "1.2.0",
            "_view_name": "LayoutView",
            "align_content": null,
            "align_items": null,
            "align_self": null,
            "border": null,
            "bottom": null,
            "display": null,
            "flex": null,
            "flex_flow": null,
            "grid_area": null,
            "grid_auto_columns": null,
            "grid_auto_flow": null,
            "grid_auto_rows": null,
            "grid_column": null,
            "grid_gap": null,
            "grid_row": null,
            "grid_template_areas": null,
            "grid_template_columns": null,
            "grid_template_rows": null,
            "height": null,
            "justify_content": null,
            "justify_items": null,
            "left": null,
            "margin": null,
            "max_height": null,
            "max_width": null,
            "min_height": null,
            "min_width": null,
            "object_fit": null,
            "object_position": null,
            "order": null,
            "overflow": null,
            "overflow_x": null,
            "overflow_y": null,
            "padding": null,
            "right": null,
            "top": null,
            "visibility": null,
            "width": null
          }
        },
        "7bd4226d48044f0a942ee9f914eeba8d": {
          "model_module": "@jupyter-widgets/controls",
          "model_module_version": "1.5.0",
          "model_name": "HTMLModel",
          "state": {
            "_dom_classes": [],
            "_model_module": "@jupyter-widgets/controls",
            "_model_module_version": "1.5.0",
            "_model_name": "HTMLModel",
            "_view_count": null,
            "_view_module": "@jupyter-widgets/controls",
            "_view_module_version": "1.5.0",
            "_view_name": "HTMLView",
            "description": "",
            "description_tooltip": null,
            "layout": "IPY_MODEL_e4892e8c7e8043beb9e98d1e63624d35",
            "placeholder": "​",
            "style": "IPY_MODEL_8e50ddfb2a7749cd82afc73d35802fd2",
            "value": "100%"
          }
        },
        "7e2ca0bb7f05401d971043d03d2981eb": {
          "model_module": "@jupyter-widgets/controls",
          "model_module_version": "1.5.0",
          "model_name": "HTMLModel",
          "state": {
            "_dom_classes": [],
            "_model_module": "@jupyter-widgets/controls",
            "_model_module_version": "1.5.0",
            "_model_name": "HTMLModel",
            "_view_count": null,
            "_view_module": "@jupyter-widgets/controls",
            "_view_module_version": "1.5.0",
            "_view_name": "HTMLView",
            "description": "",
            "description_tooltip": null,
            "layout": "IPY_MODEL_5ca3d28cf3f946a093ea64b6c1987aec",
            "placeholder": "​",
            "style": "IPY_MODEL_dad0e7ead13e4a2b9e35467a4571dc8a",
            "value": "100%"
          }
        },
        "7fb76b237d534ca88cdaceb41e74d63e": {
          "model_module": "@jupyter-widgets/base",
          "model_module_version": "1.2.0",
          "model_name": "LayoutModel",
          "state": {
            "_model_module": "@jupyter-widgets/base",
            "_model_module_version": "1.2.0",
            "_model_name": "LayoutModel",
            "_view_count": null,
            "_view_module": "@jupyter-widgets/base",
            "_view_module_version": "1.2.0",
            "_view_name": "LayoutView",
            "align_content": null,
            "align_items": null,
            "align_self": null,
            "border": null,
            "bottom": null,
            "display": null,
            "flex": null,
            "flex_flow": null,
            "grid_area": null,
            "grid_auto_columns": null,
            "grid_auto_flow": null,
            "grid_auto_rows": null,
            "grid_column": null,
            "grid_gap": null,
            "grid_row": null,
            "grid_template_areas": null,
            "grid_template_columns": null,
            "grid_template_rows": null,
            "height": null,
            "justify_content": null,
            "justify_items": null,
            "left": null,
            "margin": null,
            "max_height": null,
            "max_width": null,
            "min_height": null,
            "min_width": null,
            "object_fit": null,
            "object_position": null,
            "order": null,
            "overflow": null,
            "overflow_x": null,
            "overflow_y": null,
            "padding": null,
            "right": null,
            "top": null,
            "visibility": null,
            "width": null
          }
        },
        "8bc894b394b44d20a7e2a6515aee300f": {
          "model_module": "@jupyter-widgets/controls",
          "model_module_version": "1.5.0",
          "model_name": "HTMLModel",
          "state": {
            "_dom_classes": [],
            "_model_module": "@jupyter-widgets/controls",
            "_model_module_version": "1.5.0",
            "_model_name": "HTMLModel",
            "_view_count": null,
            "_view_module": "@jupyter-widgets/controls",
            "_view_module_version": "1.5.0",
            "_view_name": "HTMLView",
            "description": "",
            "description_tooltip": null,
            "layout": "IPY_MODEL_f5d5b6908b3246ce8d1d4e8cc0143999",
            "placeholder": "​",
            "style": "IPY_MODEL_560d6cb5ce864170b2979556687c24ad",
            "value": " 28881/28881 [00:00&lt;00:00, 1330255.14it/s]"
          }
        },
        "8e50ddfb2a7749cd82afc73d35802fd2": {
          "model_module": "@jupyter-widgets/controls",
          "model_module_version": "1.5.0",
          "model_name": "DescriptionStyleModel",
          "state": {
            "_model_module": "@jupyter-widgets/controls",
            "_model_module_version": "1.5.0",
            "_model_name": "DescriptionStyleModel",
            "_view_count": null,
            "_view_module": "@jupyter-widgets/base",
            "_view_module_version": "1.2.0",
            "_view_name": "StyleView",
            "description_width": ""
          }
        },
        "8fddec4731864b109ca1b01cd2868456": {
          "model_module": "@jupyter-widgets/controls",
          "model_module_version": "1.5.0",
          "model_name": "DescriptionStyleModel",
          "state": {
            "_model_module": "@jupyter-widgets/controls",
            "_model_module_version": "1.5.0",
            "_model_name": "DescriptionStyleModel",
            "_view_count": null,
            "_view_module": "@jupyter-widgets/base",
            "_view_module_version": "1.2.0",
            "_view_name": "StyleView",
            "description_width": ""
          }
        },
        "95eebfbb39e3487997d1fa09b06a3fbd": {
          "model_module": "@jupyter-widgets/controls",
          "model_module_version": "1.5.0",
          "model_name": "FloatProgressModel",
          "state": {
            "_dom_classes": [],
            "_model_module": "@jupyter-widgets/controls",
            "_model_module_version": "1.5.0",
            "_model_name": "FloatProgressModel",
            "_view_count": null,
            "_view_module": "@jupyter-widgets/controls",
            "_view_module_version": "1.5.0",
            "_view_name": "ProgressView",
            "bar_style": "success",
            "description": "",
            "description_tooltip": null,
            "layout": "IPY_MODEL_401f7d6f6aba4ecf8be7cea6fd9698a1",
            "max": 9912422,
            "min": 0,
            "orientation": "horizontal",
            "style": "IPY_MODEL_e96b604b7a834899abe8cede03097b0c",
            "value": 9912422
          }
        },
        "967ec3b1366843d9b959034b707bdc5d": {
          "model_module": "@jupyter-widgets/controls",
          "model_module_version": "1.5.0",
          "model_name": "HBoxModel",
          "state": {
            "_dom_classes": [],
            "_model_module": "@jupyter-widgets/controls",
            "_model_module_version": "1.5.0",
            "_model_name": "HBoxModel",
            "_view_count": null,
            "_view_module": "@jupyter-widgets/controls",
            "_view_module_version": "1.5.0",
            "_view_name": "HBoxView",
            "box_style": "",
            "children": [
              "IPY_MODEL_6ee6dc51fc2c487890976060771d09b8",
              "IPY_MODEL_95eebfbb39e3487997d1fa09b06a3fbd",
              "IPY_MODEL_e5b025c582da4132bea3ecb2a2e6cc79"
            ],
            "layout": "IPY_MODEL_02a63390708c4dea968b5cd6e2be5b0a"
          }
        },
        "9a57d36657434ea4a970d32702139e31": {
          "model_module": "@jupyter-widgets/base",
          "model_module_version": "1.2.0",
          "model_name": "LayoutModel",
          "state": {
            "_model_module": "@jupyter-widgets/base",
            "_model_module_version": "1.2.0",
            "_model_name": "LayoutModel",
            "_view_count": null,
            "_view_module": "@jupyter-widgets/base",
            "_view_module_version": "1.2.0",
            "_view_name": "LayoutView",
            "align_content": null,
            "align_items": null,
            "align_self": null,
            "border": null,
            "bottom": null,
            "display": null,
            "flex": null,
            "flex_flow": null,
            "grid_area": null,
            "grid_auto_columns": null,
            "grid_auto_flow": null,
            "grid_auto_rows": null,
            "grid_column": null,
            "grid_gap": null,
            "grid_row": null,
            "grid_template_areas": null,
            "grid_template_columns": null,
            "grid_template_rows": null,
            "height": null,
            "justify_content": null,
            "justify_items": null,
            "left": null,
            "margin": null,
            "max_height": null,
            "max_width": null,
            "min_height": null,
            "min_width": null,
            "object_fit": null,
            "object_position": null,
            "order": null,
            "overflow": null,
            "overflow_x": null,
            "overflow_y": null,
            "padding": null,
            "right": null,
            "top": null,
            "visibility": null,
            "width": null
          }
        },
        "9b62b6ddba564bb2b090806cc341e2eb": {
          "model_module": "@jupyter-widgets/base",
          "model_module_version": "1.2.0",
          "model_name": "LayoutModel",
          "state": {
            "_model_module": "@jupyter-widgets/base",
            "_model_module_version": "1.2.0",
            "_model_name": "LayoutModel",
            "_view_count": null,
            "_view_module": "@jupyter-widgets/base",
            "_view_module_version": "1.2.0",
            "_view_name": "LayoutView",
            "align_content": null,
            "align_items": null,
            "align_self": null,
            "border": null,
            "bottom": null,
            "display": null,
            "flex": null,
            "flex_flow": null,
            "grid_area": null,
            "grid_auto_columns": null,
            "grid_auto_flow": null,
            "grid_auto_rows": null,
            "grid_column": null,
            "grid_gap": null,
            "grid_row": null,
            "grid_template_areas": null,
            "grid_template_columns": null,
            "grid_template_rows": null,
            "height": null,
            "justify_content": null,
            "justify_items": null,
            "left": null,
            "margin": null,
            "max_height": null,
            "max_width": null,
            "min_height": null,
            "min_width": null,
            "object_fit": null,
            "object_position": null,
            "order": null,
            "overflow": null,
            "overflow_x": null,
            "overflow_y": null,
            "padding": null,
            "right": null,
            "top": null,
            "visibility": null,
            "width": null
          }
        },
        "9e22ad8ff4074fa88de87615555f454c": {
          "model_module": "@jupyter-widgets/controls",
          "model_module_version": "1.5.0",
          "model_name": "ProgressStyleModel",
          "state": {
            "_model_module": "@jupyter-widgets/controls",
            "_model_module_version": "1.5.0",
            "_model_name": "ProgressStyleModel",
            "_view_count": null,
            "_view_module": "@jupyter-widgets/base",
            "_view_module_version": "1.2.0",
            "_view_name": "StyleView",
            "bar_color": null,
            "description_width": ""
          }
        },
        "a58ba21abb1f4f67bcb1dcd5a9d230bb": {
          "model_module": "@jupyter-widgets/base",
          "model_module_version": "1.2.0",
          "model_name": "LayoutModel",
          "state": {
            "_model_module": "@jupyter-widgets/base",
            "_model_module_version": "1.2.0",
            "_model_name": "LayoutModel",
            "_view_count": null,
            "_view_module": "@jupyter-widgets/base",
            "_view_module_version": "1.2.0",
            "_view_name": "LayoutView",
            "align_content": null,
            "align_items": null,
            "align_self": null,
            "border": null,
            "bottom": null,
            "display": null,
            "flex": null,
            "flex_flow": null,
            "grid_area": null,
            "grid_auto_columns": null,
            "grid_auto_flow": null,
            "grid_auto_rows": null,
            "grid_column": null,
            "grid_gap": null,
            "grid_row": null,
            "grid_template_areas": null,
            "grid_template_columns": null,
            "grid_template_rows": null,
            "height": null,
            "justify_content": null,
            "justify_items": null,
            "left": null,
            "margin": null,
            "max_height": null,
            "max_width": null,
            "min_height": null,
            "min_width": null,
            "object_fit": null,
            "object_position": null,
            "order": null,
            "overflow": null,
            "overflow_x": null,
            "overflow_y": null,
            "padding": null,
            "right": null,
            "top": null,
            "visibility": null,
            "width": null
          }
        },
        "afe12df60d354f509bcda949e0509d04": {
          "model_module": "@jupyter-widgets/base",
          "model_module_version": "1.2.0",
          "model_name": "LayoutModel",
          "state": {
            "_model_module": "@jupyter-widgets/base",
            "_model_module_version": "1.2.0",
            "_model_name": "LayoutModel",
            "_view_count": null,
            "_view_module": "@jupyter-widgets/base",
            "_view_module_version": "1.2.0",
            "_view_name": "LayoutView",
            "align_content": null,
            "align_items": null,
            "align_self": null,
            "border": null,
            "bottom": null,
            "display": null,
            "flex": null,
            "flex_flow": null,
            "grid_area": null,
            "grid_auto_columns": null,
            "grid_auto_flow": null,
            "grid_auto_rows": null,
            "grid_column": null,
            "grid_gap": null,
            "grid_row": null,
            "grid_template_areas": null,
            "grid_template_columns": null,
            "grid_template_rows": null,
            "height": null,
            "justify_content": null,
            "justify_items": null,
            "left": null,
            "margin": null,
            "max_height": null,
            "max_width": null,
            "min_height": null,
            "min_width": null,
            "object_fit": null,
            "object_position": null,
            "order": null,
            "overflow": null,
            "overflow_x": null,
            "overflow_y": null,
            "padding": null,
            "right": null,
            "top": null,
            "visibility": null,
            "width": null
          }
        },
        "c41a143a7e5945168872145ba9234c0c": {
          "model_module": "@jupyter-widgets/controls",
          "model_module_version": "1.5.0",
          "model_name": "HTMLModel",
          "state": {
            "_dom_classes": [],
            "_model_module": "@jupyter-widgets/controls",
            "_model_module_version": "1.5.0",
            "_model_name": "HTMLModel",
            "_view_count": null,
            "_view_module": "@jupyter-widgets/controls",
            "_view_module_version": "1.5.0",
            "_view_name": "HTMLView",
            "description": "",
            "description_tooltip": null,
            "layout": "IPY_MODEL_3dc016eb2c3f4dc3a5ac52fe1a86bebf",
            "placeholder": "​",
            "style": "IPY_MODEL_cb652bf93a0b4e4c8c261c4deb7bcddd",
            "value": "100%"
          }
        },
        "cb652bf93a0b4e4c8c261c4deb7bcddd": {
          "model_module": "@jupyter-widgets/controls",
          "model_module_version": "1.5.0",
          "model_name": "DescriptionStyleModel",
          "state": {
            "_model_module": "@jupyter-widgets/controls",
            "_model_module_version": "1.5.0",
            "_model_name": "DescriptionStyleModel",
            "_view_count": null,
            "_view_module": "@jupyter-widgets/base",
            "_view_module_version": "1.2.0",
            "_view_name": "StyleView",
            "description_width": ""
          }
        },
        "cd14913f45f8429d8da1d7fcc4eb1219": {
          "model_module": "@jupyter-widgets/controls",
          "model_module_version": "1.5.0",
          "model_name": "ProgressStyleModel",
          "state": {
            "_model_module": "@jupyter-widgets/controls",
            "_model_module_version": "1.5.0",
            "_model_name": "ProgressStyleModel",
            "_view_count": null,
            "_view_module": "@jupyter-widgets/base",
            "_view_module_version": "1.2.0",
            "_view_name": "StyleView",
            "bar_color": null,
            "description_width": ""
          }
        },
        "dad0e7ead13e4a2b9e35467a4571dc8a": {
          "model_module": "@jupyter-widgets/controls",
          "model_module_version": "1.5.0",
          "model_name": "DescriptionStyleModel",
          "state": {
            "_model_module": "@jupyter-widgets/controls",
            "_model_module_version": "1.5.0",
            "_model_name": "DescriptionStyleModel",
            "_view_count": null,
            "_view_module": "@jupyter-widgets/base",
            "_view_module_version": "1.2.0",
            "_view_name": "StyleView",
            "description_width": ""
          }
        },
        "e31fcca6218044c3bf7cdd3672e30a80": {
          "model_module": "@jupyter-widgets/controls",
          "model_module_version": "1.5.0",
          "model_name": "DescriptionStyleModel",
          "state": {
            "_model_module": "@jupyter-widgets/controls",
            "_model_module_version": "1.5.0",
            "_model_name": "DescriptionStyleModel",
            "_view_count": null,
            "_view_module": "@jupyter-widgets/base",
            "_view_module_version": "1.2.0",
            "_view_name": "StyleView",
            "description_width": ""
          }
        },
        "e4892e8c7e8043beb9e98d1e63624d35": {
          "model_module": "@jupyter-widgets/base",
          "model_module_version": "1.2.0",
          "model_name": "LayoutModel",
          "state": {
            "_model_module": "@jupyter-widgets/base",
            "_model_module_version": "1.2.0",
            "_model_name": "LayoutModel",
            "_view_count": null,
            "_view_module": "@jupyter-widgets/base",
            "_view_module_version": "1.2.0",
            "_view_name": "LayoutView",
            "align_content": null,
            "align_items": null,
            "align_self": null,
            "border": null,
            "bottom": null,
            "display": null,
            "flex": null,
            "flex_flow": null,
            "grid_area": null,
            "grid_auto_columns": null,
            "grid_auto_flow": null,
            "grid_auto_rows": null,
            "grid_column": null,
            "grid_gap": null,
            "grid_row": null,
            "grid_template_areas": null,
            "grid_template_columns": null,
            "grid_template_rows": null,
            "height": null,
            "justify_content": null,
            "justify_items": null,
            "left": null,
            "margin": null,
            "max_height": null,
            "max_width": null,
            "min_height": null,
            "min_width": null,
            "object_fit": null,
            "object_position": null,
            "order": null,
            "overflow": null,
            "overflow_x": null,
            "overflow_y": null,
            "padding": null,
            "right": null,
            "top": null,
            "visibility": null,
            "width": null
          }
        },
        "e5b025c582da4132bea3ecb2a2e6cc79": {
          "model_module": "@jupyter-widgets/controls",
          "model_module_version": "1.5.0",
          "model_name": "HTMLModel",
          "state": {
            "_dom_classes": [],
            "_model_module": "@jupyter-widgets/controls",
            "_model_module_version": "1.5.0",
            "_model_name": "HTMLModel",
            "_view_count": null,
            "_view_module": "@jupyter-widgets/controls",
            "_view_module_version": "1.5.0",
            "_view_name": "HTMLView",
            "description": "",
            "description_tooltip": null,
            "layout": "IPY_MODEL_9b62b6ddba564bb2b090806cc341e2eb",
            "placeholder": "​",
            "style": "IPY_MODEL_8fddec4731864b109ca1b01cd2868456",
            "value": " 9912422/9912422 [00:00&lt;00:00, 73373799.59it/s]"
          }
        },
        "e96b604b7a834899abe8cede03097b0c": {
          "model_module": "@jupyter-widgets/controls",
          "model_module_version": "1.5.0",
          "model_name": "ProgressStyleModel",
          "state": {
            "_model_module": "@jupyter-widgets/controls",
            "_model_module_version": "1.5.0",
            "_model_name": "ProgressStyleModel",
            "_view_count": null,
            "_view_module": "@jupyter-widgets/base",
            "_view_module_version": "1.2.0",
            "_view_name": "StyleView",
            "bar_color": null,
            "description_width": ""
          }
        },
        "ec05d0fedd7b4370a9c0a9747fdec797": {
          "model_module": "@jupyter-widgets/controls",
          "model_module_version": "1.5.0",
          "model_name": "FloatProgressModel",
          "state": {
            "_dom_classes": [],
            "_model_module": "@jupyter-widgets/controls",
            "_model_module_version": "1.5.0",
            "_model_name": "FloatProgressModel",
            "_view_count": null,
            "_view_module": "@jupyter-widgets/controls",
            "_view_module_version": "1.5.0",
            "_view_name": "ProgressView",
            "bar_style": "success",
            "description": "",
            "description_tooltip": null,
            "layout": "IPY_MODEL_5613c1119b10410e8badebf372315923",
            "max": 4542,
            "min": 0,
            "orientation": "horizontal",
            "style": "IPY_MODEL_9e22ad8ff4074fa88de87615555f454c",
            "value": 4542
          }
        },
        "efc860d0616744f9a6aea39bc09bc1c6": {
          "model_module": "@jupyter-widgets/controls",
          "model_module_version": "1.5.0",
          "model_name": "HTMLModel",
          "state": {
            "_dom_classes": [],
            "_model_module": "@jupyter-widgets/controls",
            "_model_module_version": "1.5.0",
            "_model_name": "HTMLModel",
            "_view_count": null,
            "_view_module": "@jupyter-widgets/controls",
            "_view_module_version": "1.5.0",
            "_view_name": "HTMLView",
            "description": "",
            "description_tooltip": null,
            "layout": "IPY_MODEL_7b3547ead54e42f5a621e8584ab338ae",
            "placeholder": "​",
            "style": "IPY_MODEL_287a494499cc442f882586970420baca",
            "value": " 1648877/1648877 [00:00&lt;00:00, 23770769.32it/s]"
          }
        },
        "f1fa00676f5e4e11b3430fc20f8eba33": {
          "model_module": "@jupyter-widgets/controls",
          "model_module_version": "1.5.0",
          "model_name": "FloatProgressModel",
          "state": {
            "_dom_classes": [],
            "_model_module": "@jupyter-widgets/controls",
            "_model_module_version": "1.5.0",
            "_model_name": "FloatProgressModel",
            "_view_count": null,
            "_view_module": "@jupyter-widgets/controls",
            "_view_module_version": "1.5.0",
            "_view_name": "ProgressView",
            "bar_style": "success",
            "description": "",
            "description_tooltip": null,
            "layout": "IPY_MODEL_3cbd622613584ab689c1ee58ff767d26",
            "max": 28881,
            "min": 0,
            "orientation": "horizontal",
            "style": "IPY_MODEL_ffec4c2c8aa04828b5d79d6fba36f0a8",
            "value": 28881
          }
        },
        "f5d5b6908b3246ce8d1d4e8cc0143999": {
          "model_module": "@jupyter-widgets/base",
          "model_module_version": "1.2.0",
          "model_name": "LayoutModel",
          "state": {
            "_model_module": "@jupyter-widgets/base",
            "_model_module_version": "1.2.0",
            "_model_name": "LayoutModel",
            "_view_count": null,
            "_view_module": "@jupyter-widgets/base",
            "_view_module_version": "1.2.0",
            "_view_name": "LayoutView",
            "align_content": null,
            "align_items": null,
            "align_self": null,
            "border": null,
            "bottom": null,
            "display": null,
            "flex": null,
            "flex_flow": null,
            "grid_area": null,
            "grid_auto_columns": null,
            "grid_auto_flow": null,
            "grid_auto_rows": null,
            "grid_column": null,
            "grid_gap": null,
            "grid_row": null,
            "grid_template_areas": null,
            "grid_template_columns": null,
            "grid_template_rows": null,
            "height": null,
            "justify_content": null,
            "justify_items": null,
            "left": null,
            "margin": null,
            "max_height": null,
            "max_width": null,
            "min_height": null,
            "min_width": null,
            "object_fit": null,
            "object_position": null,
            "order": null,
            "overflow": null,
            "overflow_x": null,
            "overflow_y": null,
            "padding": null,
            "right": null,
            "top": null,
            "visibility": null,
            "width": null
          }
        },
        "f69f13329a394de6a4b620d11e66ce4d": {
          "model_module": "@jupyter-widgets/controls",
          "model_module_version": "1.5.0",
          "model_name": "FloatProgressModel",
          "state": {
            "_dom_classes": [],
            "_model_module": "@jupyter-widgets/controls",
            "_model_module_version": "1.5.0",
            "_model_name": "FloatProgressModel",
            "_view_count": null,
            "_view_module": "@jupyter-widgets/controls",
            "_view_module_version": "1.5.0",
            "_view_name": "ProgressView",
            "bar_style": "success",
            "description": "",
            "description_tooltip": null,
            "layout": "IPY_MODEL_7fb76b237d534ca88cdaceb41e74d63e",
            "max": 1648877,
            "min": 0,
            "orientation": "horizontal",
            "style": "IPY_MODEL_cd14913f45f8429d8da1d7fcc4eb1219",
            "value": 1648877
          }
        },
        "ffec4c2c8aa04828b5d79d6fba36f0a8": {
          "model_module": "@jupyter-widgets/controls",
          "model_module_version": "1.5.0",
          "model_name": "ProgressStyleModel",
          "state": {
            "_model_module": "@jupyter-widgets/controls",
            "_model_module_version": "1.5.0",
            "_model_name": "ProgressStyleModel",
            "_view_count": null,
            "_view_module": "@jupyter-widgets/base",
            "_view_module_version": "1.2.0",
            "_view_name": "StyleView",
            "bar_color": null,
            "description_width": ""
          }
        }
      }
    }
  },
  "nbformat": 4,
  "nbformat_minor": 0
}