{
  "nbformat": 4,
  "nbformat_minor": 0,
  "metadata": {
    "colab": {
      "provenance": [],
      "authorship_tag": "ABX9TyPtgRgqOOg0UKrZ27RxfHIt",
      "include_colab_link": true
    },
    "kernelspec": {
      "name": "python3",
      "display_name": "Python 3"
    },
    "language_info": {
      "name": "python"
    },
    "accelerator": "GPU",
    "gpuClass": "standard"
  },
  "cells": [
    {
      "cell_type": "markdown",
      "metadata": {
        "id": "view-in-github",
        "colab_type": "text"
      },
      "source": [
        "<a href=\"https://colab.research.google.com/github/Shayankr/PyTorch_Basic_2_Advance/blob/master/PyTorch_Linear_Regression.ipynb\" target=\"_parent\"><img src=\"https://colab.research.google.com/assets/colab-badge.svg\" alt=\"Open In Colab\"/></a>"
      ]
    },
    {
      "cell_type": "markdown",
      "source": [
        "#<center>Building a Linear regression Model Using PyTorch<center>"
      ],
      "metadata": {
        "id": "73lk65cytGWi"
      }
    },
    {
      "cell_type": "code",
      "source": [
        "# Chcek whether GPU is activated or not?\n",
        "!nvidia-smi"
      ],
      "metadata": {
        "colab": {
          "base_uri": "https://localhost:8080/"
        },
        "id": "OoYs15U5s3x_",
        "outputId": "1b85a7e0-afbf-489d-b07f-53da9ce9db3e"
      },
      "execution_count": null,
      "outputs": [
        {
          "output_type": "stream",
          "name": "stdout",
          "text": [
            "Fri Jan  6 20:41:51 2023       \n",
            "+-----------------------------------------------------------------------------+\n",
            "| NVIDIA-SMI 460.32.03    Driver Version: 460.32.03    CUDA Version: 11.2     |\n",
            "|-------------------------------+----------------------+----------------------+\n",
            "| GPU  Name        Persistence-M| Bus-Id        Disp.A | Volatile Uncorr. ECC |\n",
            "| Fan  Temp  Perf  Pwr:Usage/Cap|         Memory-Usage | GPU-Util  Compute M. |\n",
            "|                               |                      |               MIG M. |\n",
            "|===============================+======================+======================|\n",
            "|   0  Tesla T4            Off  | 00000000:00:04.0 Off |                    0 |\n",
            "| N/A   64C    P0    28W /  70W |      0MiB / 15109MiB |      0%      Default |\n",
            "|                               |                      |                  N/A |\n",
            "+-------------------------------+----------------------+----------------------+\n",
            "                                                                               \n",
            "+-----------------------------------------------------------------------------+\n",
            "| Processes:                                                                  |\n",
            "|  GPU   GI   CI        PID   Type   Process name                  GPU Memory |\n",
            "|        ID   ID                                                   Usage      |\n",
            "|=============================================================================|\n",
            "|  No running processes found                                                 |\n",
            "+-----------------------------------------------------------------------------+\n"
          ]
        }
      ]
    },
    {
      "cell_type": "code",
      "execution_count": null,
      "metadata": {
        "id": "Ics0rSVMssR_"
      },
      "outputs": [],
      "source": [
        "import torch"
      ]
    },
    {
      "cell_type": "markdown",
      "source": [
        "Set device on cpu or gpu, based on availability.\n",
        "PyTorch works on gpu."
      ],
      "metadata": {
        "id": "qxGL4_K9iiq3"
      }
    },
    {
      "cell_type": "code",
      "source": [
        "device = \"cuda\" if torch.cuda.is_available() else \"cpu\""
      ],
      "metadata": {
        "id": "vFFDQJzwuU_E"
      },
      "execution_count": null,
      "outputs": []
    },
    {
      "cell_type": "code",
      "source": [
        "device"
      ],
      "metadata": {
        "colab": {
          "base_uri": "https://localhost:8080/",
          "height": 36
        },
        "id": "jBhQ8TB9udZB",
        "outputId": "b04bd8b4-7a15-479e-aa30-09cb536f7ad6"
      },
      "execution_count": null,
      "outputs": [
        {
          "output_type": "execute_result",
          "data": {
            "text/plain": [
              "'cuda'"
            ],
            "application/vnd.google.colaboratory.intrinsic+json": {
              "type": "string"
            }
          },
          "metadata": {},
          "execution_count": 4
        }
      ]
    },
    {
      "cell_type": "code",
      "source": [
        "#Count the number of GPU available.\n",
        "torch.cuda.device_count()"
      ],
      "metadata": {
        "colab": {
          "base_uri": "https://localhost:8080/"
        },
        "id": "q4LlJGgOufB8",
        "outputId": "5e3959db-ff13-40d6-88d4-c6ab21e28c24"
      },
      "execution_count": null,
      "outputs": [
        {
          "output_type": "execute_result",
          "data": {
            "text/plain": [
              "1"
            ]
          },
          "metadata": {},
          "execution_count": 5
        }
      ]
    },
    {
      "cell_type": "markdown",
      "source": [
        "Create a simple problem for \"Linear Regression\"."
      ],
      "metadata": {
        "id": "0B0t295lis61"
      }
    },
    {
      "cell_type": "code",
      "source": [
        "weights=0.7\n",
        "bias =0.1\n",
        "\n",
        "# y=mX+c\n",
        "start=0\n",
        "stop=1\n",
        "step=0.02\n",
        "#X = torch.tensor(torch.randn(5)).unsqueeze(dim=1)\n",
        "X = torch.arange(start,stop,step).unsqueeze(dim=1)\n",
        "y = weights*X + bias\n",
        "X[:10],y[:10]\n"
      ],
      "metadata": {
        "colab": {
          "base_uri": "https://localhost:8080/"
        },
        "id": "uZVE5TNIsyBj",
        "outputId": "2e5279c6-2ef9-4d42-c3a8-3f40efc79a2b"
      },
      "execution_count": null,
      "outputs": [
        {
          "output_type": "execute_result",
          "data": {
            "text/plain": [
              "(tensor([[0.0000],\n",
              "         [0.0200],\n",
              "         [0.0400],\n",
              "         [0.0600],\n",
              "         [0.0800],\n",
              "         [0.1000],\n",
              "         [0.1200],\n",
              "         [0.1400],\n",
              "         [0.1600],\n",
              "         [0.1800]]), tensor([[0.1000],\n",
              "         [0.1140],\n",
              "         [0.1280],\n",
              "         [0.1420],\n",
              "         [0.1560],\n",
              "         [0.1700],\n",
              "         [0.1840],\n",
              "         [0.1980],\n",
              "         [0.2120],\n",
              "         [0.2260]]))"
            ]
          },
          "metadata": {},
          "execution_count": 6
        }
      ]
    },
    {
      "cell_type": "code",
      "source": [
        "X.shape"
      ],
      "metadata": {
        "colab": {
          "base_uri": "https://localhost:8080/"
        },
        "id": "aaFtMOt4uwMN",
        "outputId": "7196b90e-e3b4-4a8c-ded9-e7d8f8b1deec"
      },
      "execution_count": null,
      "outputs": [
        {
          "output_type": "execute_result",
          "data": {
            "text/plain": [
              "torch.Size([50, 1])"
            ]
          },
          "metadata": {},
          "execution_count": 7
        }
      ]
    },
    {
      "cell_type": "code",
      "source": [
        "X.ndim"
      ],
      "metadata": {
        "colab": {
          "base_uri": "https://localhost:8080/"
        },
        "id": "Hs8kSORCvBQC",
        "outputId": "3864e14d-b90a-4a5b-a075-2004e48b7e27"
      },
      "execution_count": null,
      "outputs": [
        {
          "output_type": "execute_result",
          "data": {
            "text/plain": [
              "2"
            ]
          },
          "metadata": {},
          "execution_count": 8
        }
      ]
    },
    {
      "cell_type": "code",
      "source": [
        "X.size()"
      ],
      "metadata": {
        "colab": {
          "base_uri": "https://localhost:8080/"
        },
        "id": "jS-tQdMCvCkB",
        "outputId": "be076d46-b0ce-449d-bff0-d78ca7745078"
      },
      "execution_count": null,
      "outputs": [
        {
          "output_type": "execute_result",
          "data": {
            "text/plain": [
              "torch.Size([50, 1])"
            ]
          },
          "metadata": {},
          "execution_count": 9
        }
      ]
    },
    {
      "cell_type": "code",
      "source": [
        "len(X),len(y)"
      ],
      "metadata": {
        "colab": {
          "base_uri": "https://localhost:8080/"
        },
        "id": "xFr3MikWvDLV",
        "outputId": "2cf8c1a7-0ca5-4c8b-cb08-cf4e057b6b07"
      },
      "execution_count": null,
      "outputs": [
        {
          "output_type": "execute_result",
          "data": {
            "text/plain": [
              "(50, 50)"
            ]
          },
          "metadata": {},
          "execution_count": 10
        }
      ]
    },
    {
      "cell_type": "markdown",
      "source": [
        "Splitting the data in very general manner, we can use randomness in splitting using \"sklearn.model_selection.train_test_split\"."
      ],
      "metadata": {
        "id": "rTC6NMjKizo0"
      }
    },
    {
      "cell_type": "code",
      "source": [
        "# Splitting the data\n",
        "\n",
        "train_split = int(0.8*len(X))\n",
        "X_train, y_train = X[:train_split],y[:train_split]\n",
        "X_test, y_test = X[train_split:], y[train_split:]\n",
        "\n",
        "print(f\"len of X_train is: {len(X_train)}\")\n",
        "print(f\"len of X_test is: {len(X_test)}\")\n",
        "print(f\"len of y_train is: {len(y_train)}\")\n",
        "print(f\"len of y_test is: {len(y_test)}\")"
      ],
      "metadata": {
        "colab": {
          "base_uri": "https://localhost:8080/"
        },
        "id": "M0Mrpx1vvFF2",
        "outputId": "a70db2e0-1bb7-4552-f132-897ce4b51956"
      },
      "execution_count": null,
      "outputs": [
        {
          "output_type": "stream",
          "name": "stdout",
          "text": [
            "len of X_train is: 40\n",
            "len of X_test is: 10\n",
            "len of y_train is: 40\n",
            "len of y_test is: 10\n"
          ]
        }
      ]
    },
    {
      "cell_type": "code",
      "source": [
        "# We an use sklearn.model_selection.train_test_split .... for random splitting"
      ],
      "metadata": {
        "id": "G_JO-MzBv0Xz"
      },
      "execution_count": null,
      "outputs": []
    },
    {
      "cell_type": "markdown",
      "source": [
        "importing some necessary libraries"
      ],
      "metadata": {
        "id": "m7bvg0umjA0x"
      }
    },
    {
      "cell_type": "code",
      "source": [
        "import numpy as np\n",
        "import pandas as pd\n",
        "import seaborn as sns\n",
        "import matplotlib.pyplot as plt"
      ],
      "metadata": {
        "id": "vFxUHMhRwPXD"
      },
      "execution_count": null,
      "outputs": []
    },
    {
      "cell_type": "markdown",
      "source": [
        "Define a plotting function, to use later after training (and testing)."
      ],
      "metadata": {
        "id": "2Yr-7d-UjFHC"
      }
    },
    {
      "cell_type": "code",
      "source": [
        "# visualize\n",
        "\n",
        "def plot_predictions(train_data=X_train, \n",
        "                     train_labels=y_train,\n",
        "                     test_data=X_test, test_labels=y_test, predictions=None):\n",
        "  plt.figure(figsize=(10,7))\n",
        "\n",
        "  plt.scatter(train_data, train_labels, c=\"b\", s=5, label=\"Training_Data\")\n",
        "\n",
        "  plt.scatter(test_data, test_labels, c=\"g\", s=5, label=\"Testing_data\")\n",
        "\n",
        "  if predictions is not None:\n",
        "\n",
        "    #plot the prediction plot\n",
        "\n",
        "    plt.scatter(test_data, predictions, c=\"r\", s=6, label=\"Predictions\")\n",
        "\n",
        "  plt.legend(prop={\"size\":14})\n",
        "\n"
      ],
      "metadata": {
        "id": "snj-l2Oxv7y3"
      },
      "execution_count": null,
      "outputs": []
    },
    {
      "cell_type": "code",
      "source": [
        "plot_predictions()"
      ],
      "metadata": {
        "colab": {
          "base_uri": "https://localhost:8080/",
          "height": 428
        },
        "id": "D7uDtHAgwqtO",
        "outputId": "344c7c90-2a18-49c2-98b1-f145ac3be51a"
      },
      "execution_count": null,
      "outputs": [
        {
          "output_type": "display_data",
          "data": {
            "text/plain": [
              "<Figure size 720x504 with 1 Axes>"
            ],
            "image/png": "[encoded data removed]"
          },
          "metadata": {
            "needs_background": "light"
          }
        }
      ]
    },
    {
      "cell_type": "markdown",
      "source": [
        "Chcek the parameters of the plotting function."
      ],
      "metadata": {
        "id": "q2v6hIiajQaP"
      }
    },
    {
      "cell_type": "code",
      "source": [
        "plot_predictions(X_train,y_train, X_test, y_test)"
      ],
      "metadata": {
        "colab": {
          "base_uri": "https://localhost:8080/",
          "height": 428
        },
        "id": "La5kGmFPRC2q",
        "outputId": "f08c49a5-f511-425c-a55e-45717be35ca4"
      },
      "execution_count": null,
      "outputs": [
        {
          "output_type": "display_data",
          "data": {
            "text/plain": [
              "<Figure size 720x504 with 1 Axes>"
            ],
            "image/png": "[encoded data removed]"
          },
          "metadata": {
            "needs_background": "light"
          }
        }
      ]
    },
    {
      "cell_type": "markdown",
      "source": [
        "## Building Model"
      ],
      "metadata": {
        "id": "Kxu-9vWyxEPl"
      }
    },
    {
      "cell_type": "code",
      "source": [
        "from torch import nn"
      ],
      "metadata": {
        "id": "CjWtB3QYxA4Z"
      },
      "execution_count": null,
      "outputs": []
    },
    {
      "cell_type": "markdown",
      "source": [
        "Creating the <I><b>LinearRegression</b></I> function using<b> \"nn.Module\"</b>."
      ],
      "metadata": {
        "id": "RdFre3MbjVdp"
      }
    },
    {
      "cell_type": "markdown",
      "source": [
        "*Define the parameters by \"self*\". `later, I will use \"nn.Linear\"`"
      ],
      "metadata": {
        "id": "vrS3t8e4kJSu"
      }
    },
    {
      "cell_type": "code",
      "source": [
        "# create a linear model by subclassing nn.module\n",
        "class LinearRegressionModel(nn.Module):\n",
        "  def __init__(self):\n",
        "    super().__init__()\n",
        "    self.weights = nn.Parameter(torch.randn(1, requires_grad=True, dtype=float))\n",
        "\n",
        "    self.bias = nn.Parameter(torch.randn(1, requires_grad=True, dtype=float))\n",
        "\n",
        "  def forward(self, x:torch.tensor)-> torch.tensor:\n",
        "    return self.weights*x+self.bias"
      ],
      "metadata": {
        "id": "lg4afVhOxHEL"
      },
      "execution_count": null,
      "outputs": []
    },
    {
      "cell_type": "code",
      "source": [
        "# Try later to use manual seed -- to decrease the randomness in random."
      ],
      "metadata": {
        "id": "hT8EcxokjjMb"
      },
      "execution_count": null,
      "outputs": []
    },
    {
      "cell_type": "code",
      "source": [
        "torch.manual_seed = 42\n",
        "# -- torch.manual_seed(42)\n",
        "model_0 = LinearRegressionModel()\n",
        "list(model_0.parameters())\n",
        "model_0.state_dict()"
      ],
      "metadata": {
        "colab": {
          "base_uri": "https://localhost:8080/"
        },
        "id": "7ZR-pcppyH1f",
        "outputId": "87b1c506-4e89-42bb-df11-20f83c5206be"
      },
      "execution_count": null,
      "outputs": [
        {
          "output_type": "execute_result",
          "data": {
            "text/plain": [
              "OrderedDict([('weights', tensor([0.6174], dtype=torch.float64)),\n",
              "             ('bias', tensor([0.8371], dtype=torch.float64))])"
            ]
          },
          "metadata": {},
          "execution_count": 19
        }
      ]
    },
    {
      "cell_type": "code",
      "source": [
        "model_0.parameters()"
      ],
      "metadata": {
        "colab": {
          "base_uri": "https://localhost:8080/"
        },
        "id": "hqRpDGIPRsxF",
        "outputId": "718cf863-8d58-48e2-c18e-3cdf7644563f"
      },
      "execution_count": null,
      "outputs": [
        {
          "output_type": "execute_result",
          "data": {
            "text/plain": [
              "<generator object Module.parameters at 0x7f43ca54ff20>"
            ]
          },
          "metadata": {},
          "execution_count": 20
        }
      ]
    },
    {
      "cell_type": "code",
      "source": [
        "list(model_0.parameters())"
      ],
      "metadata": {
        "colab": {
          "base_uri": "https://localhost:8080/"
        },
        "id": "eVe52GUWRwaT",
        "outputId": "29b587e1-a799-41a2-e269-095de733cc85"
      },
      "execution_count": null,
      "outputs": [
        {
          "output_type": "execute_result",
          "data": {
            "text/plain": [
              "[Parameter containing:\n",
              " tensor([0.6174], dtype=torch.float64, requires_grad=True),\n",
              " Parameter containing:\n",
              " tensor([0.8371], dtype=torch.float64, requires_grad=True)]"
            ]
          },
          "metadata": {},
          "execution_count": 21
        }
      ]
    },
    {
      "cell_type": "code",
      "source": [
        "model_0.state_dict()"
      ],
      "metadata": {
        "colab": {
          "base_uri": "https://localhost:8080/"
        },
        "id": "9pDuL19IR044",
        "outputId": "f9a58661-1d29-45df-cd01-2c755157b20b"
      },
      "execution_count": null,
      "outputs": [
        {
          "output_type": "execute_result",
          "data": {
            "text/plain": [
              "OrderedDict([('weights', tensor([0.6174], dtype=torch.float64)),\n",
              "             ('bias', tensor([0.8371], dtype=torch.float64))])"
            ]
          },
          "metadata": {},
          "execution_count": 22
        }
      ]
    },
    {
      "cell_type": "code",
      "source": [
        "# make predictions with model:\n",
        "with torch.inference_mode():\n",
        "  y_preds = model_0(X_test)\n",
        "y_preds"
      ],
      "metadata": {
        "colab": {
          "base_uri": "https://localhost:8080/"
        },
        "id": "YhMXgX8nydS_",
        "outputId": "5ae07831-1d7e-4810-e0b1-66e090743be6"
      },
      "execution_count": null,
      "outputs": [
        {
          "output_type": "execute_result",
          "data": {
            "text/plain": [
              "tensor([[1.3311],\n",
              "        [1.3434],\n",
              "        [1.3558],\n",
              "        [1.3681],\n",
              "        [1.3805],\n",
              "        [1.3928],\n",
              "        [1.4052],\n",
              "        [1.4175],\n",
              "        [1.4299],\n",
              "        [1.4422]], dtype=torch.float64)"
            ]
          },
          "metadata": {},
          "execution_count": 23
        }
      ]
    },
    {
      "cell_type": "code",
      "source": [
        "with torch.no_grad():\n",
        "  y_preds = model_0(X_test)\n",
        "y_preds"
      ],
      "metadata": {
        "colab": {
          "base_uri": "https://localhost:8080/"
        },
        "id": "V15boxjqzE64",
        "outputId": "43a673b8-0717-47e3-f1b6-908ca77c642e"
      },
      "execution_count": null,
      "outputs": [
        {
          "output_type": "execute_result",
          "data": {
            "text/plain": [
              "tensor([[1.3311],\n",
              "        [1.3434],\n",
              "        [1.3558],\n",
              "        [1.3681],\n",
              "        [1.3805],\n",
              "        [1.3928],\n",
              "        [1.4052],\n",
              "        [1.4175],\n",
              "        [1.4299],\n",
              "        [1.4422]], dtype=torch.float64)"
            ]
          },
          "metadata": {},
          "execution_count": 24
        }
      ]
    },
    {
      "cell_type": "markdown",
      "source": [
        "## Train Model:"
      ],
      "metadata": {
        "id": "zXCUPBl9zM4i"
      }
    },
    {
      "cell_type": "code",
      "source": [
        "# Loss funcion\n",
        "# Optimizer\n",
        "# loopo (training and tetsing)"
      ],
      "metadata": {
        "id": "tKmPTPHYzMAF"
      },
      "execution_count": null,
      "outputs": []
    },
    {
      "cell_type": "code",
      "source": [
        "# Set-up loss function.\n",
        "loss_fn = nn.L1Loss()"
      ],
      "metadata": {
        "id": "75FF-fpuzXRJ"
      },
      "execution_count": null,
      "outputs": []
    },
    {
      "cell_type": "code",
      "source": [
        "#setup an opimizer\n",
        "optimizers = torch.optim.SGD(params=model_0.parameters(),\n",
        "                            lr=0.05,)\n",
        "#leraning_rate -- is  a hyperparameter."
      ],
      "metadata": {
        "id": "vUHdece5zavI"
      },
      "execution_count": null,
      "outputs": []
    },
    {
      "cell_type": "markdown",
      "source": [
        "Whole Complete Training Loop:"
      ],
      "metadata": {
        "id": "u98eRlGmjzLi"
      }
    },
    {
      "cell_type": "code",
      "source": [
        "#looping\n",
        "epochs=200\n",
        "\n",
        "#Take different values\n",
        "epoch_counts=[]\n",
        "loss_values=[]\n",
        "test_loss_values=[]\n",
        "\n",
        "# 0.Iterate over loop(#epochs)\n",
        "for epoch in range(epochs):\n",
        "  model_0.train()\n",
        "\n",
        "  #1. Forward Pass\n",
        "  y_pred = model_0(X_train)\n",
        "\n",
        "  # 2. Caluclate the loss\n",
        "  loss = loss_fn(y_pred,y_train)\n",
        "  print(f\"Loss: {loss}\")\n",
        "\n",
        "  # 3. Optimizer zero grad\n",
        "  optimizers.zero_grad()\n",
        "\n",
        "  # 4. Perform Backpropagation\n",
        "  loss.backward()\n",
        "\n",
        "  # 5. Optimizer step\n",
        "  optimizers.step()\n",
        "\n",
        "\n",
        "  # TESTING\n",
        "  model_0.eval()  #Turn model into evaluation mode.\n",
        "\n",
        "  # with torch.no_grad():\n",
        "  with torch.inference_mode():\n",
        "    # 1. Do theforward pass\n",
        "    test_pred = model_0(X_test)\n",
        "\n",
        "    # 2. Calculate loss\n",
        "    test_loss = loss_fn(test_pred, y_test)\n",
        "\n",
        "  # Print out what's happening:\n",
        "  if (epoch%10==0):\n",
        "    epoch_counts.append(epoch)\n",
        "    loss_values.append(loss)\n",
        "    test_loss_values.append(test_loss)\n",
        "    print(f\"Epoch: {epoch} | Loss: {loss} | Test_Loss: {test_loss}\")  \n",
        "\n",
        "    print(model_0.state_dict())"
      ],
      "metadata": {
        "colab": {
          "base_uri": "https://localhost:8080/"
        },
        "id": "iy5FcBsEzvAY",
        "outputId": "2a752dc5-4f3c-46e5-ff74-1929aa09b06a"
      },
      "execution_count": null,
      "outputs": [
        {
          "output_type": "stream",
          "name": "stdout",
          "text": [
            "Loss: 0.7049081419176918\n",
            "Epoch: 0 | Loss: 0.7049081419176918 | Test_Loss: 0.5962778515569476\n",
            "OrderedDict([('weights', tensor([0.5979], dtype=torch.float64)), ('bias', tensor([0.7871], dtype=torch.float64))])\n",
            "Loss: 0.6473031422358687\n",
            "Loss: 0.5896981425540458\n",
            "Loss: 0.5320931428722228\n",
            "Loss: 0.4744881431903997\n",
            "Loss: 0.41688314350857675\n",
            "Loss: 0.3592781438267537\n",
            "Loss: 0.30167314414493085\n",
            "Loss: 0.24406814446310787\n",
            "Loss: 0.18646314478128492\n",
            "Loss: 0.12885814509946197\n",
            "Epoch: 10 | Loss: 0.12885814509946197 | Test_Loss: 0.07727214667223574\n",
            "OrderedDict([('weights', tensor([0.4029], dtype=torch.float64)), ('bias', tensor([0.2871], dtype=torch.float64))])\n",
            "Loss: 0.08077435890468766\n",
            "Loss: 0.06678364129732009\n",
            "Loss: 0.06251803168934618\n",
            "Loss: 0.06001130004467805\n",
            "Loss: 0.05802181905619473\n",
            "Loss: 0.05625776912454861\n",
            "Loss: 0.05449371919290245\n",
            "Loss: 0.05276623799284517\n",
            "Loss: 0.051048669339336536\n",
            "Loss: 0.04934023816010885\n",
            "Epoch: 20 | Loss: 0.04934023816010885 | Test_Loss: 0.11110514762827206\n",
            "OrderedDict([('weights', tensor([0.4632], dtype=torch.float64)), ('bias', tensor([0.1996], dtype=torch.float64))])\n",
            "Loss: 0.04760361948577064\n",
            "Loss: 0.04591423832737253\n",
            "Loss: 0.04416923841655597\n",
            "Loss: 0.04247756971028495\n",
            "Loss: 0.040743238583819646\n",
            "Loss: 0.03903251985671903\n",
            "Loss: 0.03731723875108332\n",
            "Loss: 0.03558747000315311\n",
            "Loss: 0.033891238918346986\n",
            "Loss: 0.03214623900753045\n",
            "Epoch: 30 | Loss: 0.03214623900753045 | Test_Loss: 0.06974314889812684\n",
            "OrderedDict([('weights', tensor([0.5490], dtype=torch.float64)), ('bias', tensor([0.1646], dtype=torch.float64))])\n",
            "Loss: 0.030461420227667423\n",
            "Loss: 0.028720239174794125\n",
            "Loss: 0.027016370374101505\n",
            "Loss: 0.025294239342057802\n",
            "Loss: 0.0235713205205356\n",
            "Loss: 0.021868239509321482\n",
            "Loss: 0.020126270666969686\n",
            "Loss: 0.018442239676585145\n",
            "Loss: 0.0166972397657686\n",
            "Loss: 0.015000220891483996\n",
            "Epoch: 40 | Loss: 0.015000220891483996 | Test_Loss: 0.03181565014881875\n",
            "OrderedDict([('weights', tensor([0.6338], dtype=torch.float64)), ('bias', tensor([0.1271], dtype=torch.float64))])\n",
            "Loss: 0.01327123993303228\n",
            "Loss: 0.011555171037918088\n",
            "Loss: 0.009850107993603825\n",
            "Loss: 0.008433262935447505\n",
            "Loss: 0.008445148265541422\n",
            "Loss: 0.02258264018548161\n",
            "Loss: 0.03502235949634136\n",
            "Loss: 0.02258264018548161\n",
            "Loss: 0.03502235949634136\n",
            "Loss: 0.02258264018548161\n",
            "Epoch: 50 | Loss: 0.02258264018548161 | Test_Loss: 0.05377265057866517\n",
            "OrderedDict([('weights', tensor([0.6625], dtype=torch.float64)), ('bias', tensor([0.0796], dtype=torch.float64))])\n",
            "Loss: 0.03502235949634136\n",
            "Loss: 0.02258264018548161\n",
            "Loss: 0.03502235949634136\n",
            "Loss: 0.02258264018548161\n",
            "Loss: 0.03502235949634136\n",
            "Loss: 0.02258264018548161\n",
            "Loss: 0.03502235949634136\n",
            "Loss: 0.02258264018548161\n",
            "Loss: 0.03502235949634136\n",
            "Loss: 0.02258264018548161\n",
            "Epoch: 60 | Loss: 0.02258264018548161 | Test_Loss: 0.05377265057866517\n",
            "OrderedDict([('weights', tensor([0.6625], dtype=torch.float64)), ('bias', tensor([0.0796], dtype=torch.float64))])\n",
            "Loss: 0.03502235949634136\n",
            "Loss: 0.02258264018548161\n",
            "Loss: 0.03502235949634136\n",
            "Loss: 0.02258264018548161\n",
            "Loss: 0.03502235949634136\n",
            "Loss: 0.02258264018548161\n",
            "Loss: 0.03502235949634136\n",
            "Loss: 0.02258264018548161\n",
            "Loss: 0.03502235949634136\n",
            "Loss: 0.02258264018548161\n",
            "Epoch: 70 | Loss: 0.02258264018548161 | Test_Loss: 0.05377265057866517\n",
            "OrderedDict([('weights', tensor([0.6625], dtype=torch.float64)), ('bias', tensor([0.0796], dtype=torch.float64))])\n",
            "Loss: 0.03502235949634136\n",
            "Loss: 0.02258264018548161\n",
            "Loss: 0.03502235949634136\n",
            "Loss: 0.02258264018548161\n",
            "Loss: 0.03502235949634136\n",
            "Loss: 0.02258264018548161\n",
            "Loss: 0.03502235949634136\n",
            "Loss: 0.02258264018548161\n",
            "Loss: 0.03502235949634136\n",
            "Loss: 0.02258264018548161\n",
            "Epoch: 80 | Loss: 0.02258264018548161 | Test_Loss: 0.05377265057866517\n",
            "OrderedDict([('weights', tensor([0.6625], dtype=torch.float64)), ('bias', tensor([0.0796], dtype=torch.float64))])\n",
            "Loss: 0.03502235949634136\n",
            "Loss: 0.02258264018548161\n",
            "Loss: 0.03502235949634136\n",
            "Loss: 0.02258264018548161\n",
            "Loss: 0.03502235949634136\n",
            "Loss: 0.02258264018548161\n",
            "Loss: 0.03502235949634136\n",
            "Loss: 0.02258264018548161\n",
            "Loss: 0.03502235949634136\n",
            "Loss: 0.02258264018548161\n",
            "Epoch: 90 | Loss: 0.02258264018548161 | Test_Loss: 0.05377265057866517\n",
            "OrderedDict([('weights', tensor([0.6625], dtype=torch.float64)), ('bias', tensor([0.0796], dtype=torch.float64))])\n",
            "Loss: 0.03502235949634136\n",
            "Loss: 0.02258264018548161\n",
            "Loss: 0.03502235949634136\n",
            "Loss: 0.02258264018548161\n",
            "Loss: 0.03502235949634136\n",
            "Loss: 0.02258264018548161\n",
            "Loss: 0.03502235949634136\n",
            "Loss: 0.02258264018548161\n",
            "Loss: 0.03502235949634136\n",
            "Loss: 0.02258264018548161\n",
            "Epoch: 100 | Loss: 0.02258264018548161 | Test_Loss: 0.05377265057866517\n",
            "OrderedDict([('weights', tensor([0.6625], dtype=torch.float64)), ('bias', tensor([0.0796], dtype=torch.float64))])\n",
            "Loss: 0.03502235949634136\n",
            "Loss: 0.02258264018548161\n",
            "Loss: 0.03502235949634136\n",
            "Loss: 0.02258264018548161\n",
            "Loss: 0.03502235949634136\n",
            "Loss: 0.02258264018548161\n",
            "Loss: 0.03502235949634136\n",
            "Loss: 0.02258264018548161\n",
            "Loss: 0.03502235949634136\n",
            "Loss: 0.02258264018548161\n",
            "Epoch: 110 | Loss: 0.02258264018548161 | Test_Loss: 0.05377265057866517\n",
            "OrderedDict([('weights', tensor([0.6625], dtype=torch.float64)), ('bias', tensor([0.0796], dtype=torch.float64))])\n",
            "Loss: 0.03502235949634136\n",
            "Loss: 0.02258264018548161\n",
            "Loss: 0.03502235949634136\n",
            "Loss: 0.02258264018548161\n",
            "Loss: 0.03502235949634136\n",
            "Loss: 0.02258264018548161\n",
            "Loss: 0.03502235949634136\n",
            "Loss: 0.02258264018548161\n",
            "Loss: 0.03502235949634136\n",
            "Loss: 0.02258264018548161\n",
            "Epoch: 120 | Loss: 0.02258264018548161 | Test_Loss: 0.05377265057866517\n",
            "OrderedDict([('weights', tensor([0.6625], dtype=torch.float64)), ('bias', tensor([0.0796], dtype=torch.float64))])\n",
            "Loss: 0.03502235949634136\n",
            "Loss: 0.02258264018548161\n",
            "Loss: 0.03502235949634136\n",
            "Loss: 0.02258264018548161\n",
            "Loss: 0.03502235949634136\n",
            "Loss: 0.02258264018548161\n",
            "Loss: 0.03502235949634136\n",
            "Loss: 0.02258264018548161\n",
            "Loss: 0.03502235949634136\n",
            "Loss: 0.02258264018548161\n",
            "Epoch: 130 | Loss: 0.02258264018548161 | Test_Loss: 0.05377265057866517\n",
            "OrderedDict([('weights', tensor([0.6625], dtype=torch.float64)), ('bias', tensor([0.0796], dtype=torch.float64))])\n",
            "Loss: 0.03502235949634136\n",
            "Loss: 0.02258264018548161\n",
            "Loss: 0.03502235949634136\n",
            "Loss: 0.02258264018548161\n",
            "Loss: 0.03502235949634136\n",
            "Loss: 0.02258264018548161\n",
            "Loss: 0.03502235949634136\n",
            "Loss: 0.02258264018548161\n",
            "Loss: 0.03502235949634136\n",
            "Loss: 0.02258264018548161\n",
            "Epoch: 140 | Loss: 0.02258264018548161 | Test_Loss: 0.05377265057866517\n",
            "OrderedDict([('weights', tensor([0.6625], dtype=torch.float64)), ('bias', tensor([0.0796], dtype=torch.float64))])\n",
            "Loss: 0.03502235949634136\n",
            "Loss: 0.02258264018548161\n",
            "Loss: 0.03502235949634136\n",
            "Loss: 0.02258264018548161\n",
            "Loss: 0.03502235949634136\n",
            "Loss: 0.02258264018548161\n",
            "Loss: 0.03502235949634136\n",
            "Loss: 0.02258264018548161\n",
            "Loss: 0.03502235949634136\n",
            "Loss: 0.02258264018548161\n",
            "Epoch: 150 | Loss: 0.02258264018548161 | Test_Loss: 0.05377265057866517\n",
            "OrderedDict([('weights', tensor([0.6625], dtype=torch.float64)), ('bias', tensor([0.0796], dtype=torch.float64))])\n",
            "Loss: 0.03502235949634136\n",
            "Loss: 0.02258264018548161\n",
            "Loss: 0.03502235949634136\n",
            "Loss: 0.02258264018548161\n",
            "Loss: 0.03502235949634136\n",
            "Loss: 0.02258264018548161\n",
            "Loss: 0.03502235949634136\n",
            "Loss: 0.02258264018548161\n",
            "Loss: 0.03502235949634136\n",
            "Loss: 0.02258264018548161\n",
            "Epoch: 160 | Loss: 0.02258264018548161 | Test_Loss: 0.05377265057866517\n",
            "OrderedDict([('weights', tensor([0.6625], dtype=torch.float64)), ('bias', tensor([0.0796], dtype=torch.float64))])\n",
            "Loss: 0.03502235949634136\n",
            "Loss: 0.02258264018548161\n",
            "Loss: 0.03502235949634136\n",
            "Loss: 0.02258264018548161\n",
            "Loss: 0.03502235949634136\n",
            "Loss: 0.02258264018548161\n",
            "Loss: 0.03502235949634136\n",
            "Loss: 0.02258264018548161\n",
            "Loss: 0.03502235949634136\n",
            "Loss: 0.02258264018548161\n",
            "Epoch: 170 | Loss: 0.02258264018548161 | Test_Loss: 0.05377265057866517\n",
            "OrderedDict([('weights', tensor([0.6625], dtype=torch.float64)), ('bias', tensor([0.0796], dtype=torch.float64))])\n",
            "Loss: 0.03502235949634136\n",
            "Loss: 0.02258264018548161\n",
            "Loss: 0.03502235949634136\n",
            "Loss: 0.02258264018548161\n",
            "Loss: 0.03502235949634136\n",
            "Loss: 0.02258264018548161\n",
            "Loss: 0.03502235949634136\n",
            "Loss: 0.02258264018548161\n",
            "Loss: 0.03502235949634136\n",
            "Loss: 0.02258264018548161\n",
            "Epoch: 180 | Loss: 0.02258264018548161 | Test_Loss: 0.05377265057866517\n",
            "OrderedDict([('weights', tensor([0.6625], dtype=torch.float64)), ('bias', tensor([0.0796], dtype=torch.float64))])\n",
            "Loss: 0.03502235949634136\n",
            "Loss: 0.02258264018548161\n",
            "Loss: 0.03502235949634136\n",
            "Loss: 0.02258264018548161\n",
            "Loss: 0.03502235949634136\n",
            "Loss: 0.02258264018548161\n",
            "Loss: 0.03502235949634136\n",
            "Loss: 0.02258264018548161\n",
            "Loss: 0.03502235949634136\n",
            "Loss: 0.02258264018548161\n",
            "Epoch: 190 | Loss: 0.02258264018548161 | Test_Loss: 0.05377265057866517\n",
            "OrderedDict([('weights', tensor([0.6625], dtype=torch.float64)), ('bias', tensor([0.0796], dtype=torch.float64))])\n",
            "Loss: 0.03502235949634136\n",
            "Loss: 0.02258264018548161\n",
            "Loss: 0.03502235949634136\n",
            "Loss: 0.02258264018548161\n",
            "Loss: 0.03502235949634136\n",
            "Loss: 0.02258264018548161\n",
            "Loss: 0.03502235949634136\n",
            "Loss: 0.02258264018548161\n",
            "Loss: 0.03502235949634136\n"
          ]
        }
      ]
    },
    {
      "cell_type": "markdown",
      "source": [
        "Plotting the loss curve for training and testing\""
      ],
      "metadata": {
        "id": "KbIyzptJj8SI"
      }
    },
    {
      "cell_type": "code",
      "source": [
        "#from prompt_toolkit.shortcuts.dialogs import Label\n",
        "# Plottinf the loss curve:\n",
        "\n",
        "plt.plot(epoch_counts, torch.tensor(loss_values).cpu(), label=\"Training loss\")\n",
        "plt.plot(epoch_counts, torch.tensor(test_loss_values).cpu(), label='Testing_loss')\n",
        "\n",
        "plt.title(\"training and Testing loss curve\")\n",
        "plt.ylabel(\"loss\")\n",
        "plt.xlabel(\"Epochs\")\n",
        "plt.legend()\n",
        "plt.show()"
      ],
      "metadata": {
        "colab": {
          "base_uri": "https://localhost:8080/",
          "height": 295
        },
        "id": "M4IhITtrSObe",
        "outputId": "5e88c328-7d30-4217-bd40-09125a25dfcf"
      },
      "execution_count": null,
      "outputs": [
        {
          "output_type": "display_data",
          "data": {
            "text/plain": [
              "<Figure size 432x288 with 1 Axes>"
            ],
            "image/png": "[encoded data removed]"
          },
          "metadata": {
            "needs_background": "light"
          }
        }
      ]
    },
    {
      "cell_type": "code",
      "source": [
        "#from prompt_toolkit.shortcuts.dialogs import Label\n",
        "# Plotting the loss curve:\n",
        "\n",
        "plt.plot(epoch_counts, torch.tensor(loss_values).numpy(), label=\"Training loss\")\n",
        "plt.plot(epoch_counts, torch.tensor(test_loss_values).numpy(), label='Testing_loss')\n",
        "\n",
        "plt.title(\"training and Testing loss curve\")\n",
        "plt.ylabel(\"loss\")\n",
        "plt.xlabel(\"Epochs\")\n",
        "plt.legend()\n",
        "plt.show()"
      ],
      "metadata": {
        "colab": {
          "base_uri": "https://localhost:8080/",
          "height": 295
        },
        "id": "JIg089SUSOX1",
        "outputId": "8a87069b-d1a6-412a-eba2-5b39673de4da"
      },
      "execution_count": null,
      "outputs": [
        {
          "output_type": "display_data",
          "data": {
            "text/plain": [
              "<Figure size 432x288 with 1 Axes>"
            ],
            "image/png": "[encoded data removed]"
          },
          "metadata": {
            "needs_background": "light"
          }
        }
      ]
    },
    {
      "cell_type": "code",
      "source": [
        "#from prompt_toolkit.shortcuts.dialogs import Label\n",
        "# Plottinf the loss curve:\n",
        "\n",
        "plt.plot(epoch_counts, np.array(torch.tensor(loss_values)), label=\"Training loss\")\n",
        "plt.plot(epoch_counts, np.array(torch.tensor(test_loss_values)), label='Testing_loss')\n",
        "\n",
        "plt.title(\"training and Testing loss curve\")\n",
        "plt.ylabel(\"loss\")\n",
        "plt.xlabel(\"Epochs\")\n",
        "plt.legend()\n",
        "plt.show()"
      ],
      "metadata": {
        "colab": {
          "base_uri": "https://localhost:8080/",
          "height": 295
        },
        "id": "LFsM8jgKSOVQ",
        "outputId": "6126ebc0-937c-4f2f-c8b9-5c0a04bc8bfd"
      },
      "execution_count": null,
      "outputs": [
        {
          "output_type": "display_data",
          "data": {
            "text/plain": [
              "<Figure size 432x288 with 1 Axes>"
            ],
            "image/png": "[encoded data removed]"
          },
          "metadata": {
            "needs_background": "light"
          }
        }
      ]
    },
    {
      "cell_type": "markdown",
      "source": [
        "## Define Linear Model by Using \"nn.Linear()\""
      ],
      "metadata": {
        "id": "B_TBRTlE1gKF"
      }
    },
    {
      "cell_type": "code",
      "source": [
        "# def LinearRegressionModelV2 by using subclassing of nn.module\n",
        "\n",
        "class LinearRegressionModelV2(nn.Module):\n",
        "  def __init__(self):\n",
        "    super().__init__()\n",
        "\n",
        "    # use nn.Linear() for creating the model parameters / also called: linear Transform, Probling layer.\n",
        "    self.linear_layer = nn.Linear(in_features=1,\n",
        "                                  out_features=1)\n",
        "    \n",
        "  def forward(self, x:torch.Tensor)->torch.Tensor:\n",
        "    return self.linear_layer(x)\n",
        "\n",
        "# # set the manual seed\n",
        "# torch.manual_seed(42)\n",
        "model_1 = LinearRegressionModelV2()\n",
        "model_1, model_1.state_dict()"
      ],
      "metadata": {
        "colab": {
          "base_uri": "https://localhost:8080/"
        },
        "id": "AdnKGxbFSOSr",
        "outputId": "697f1418-50f9-454f-e053-0dc4c9bfb9ec"
      },
      "execution_count": null,
      "outputs": [
        {
          "output_type": "execute_result",
          "data": {
            "text/plain": [
              "(LinearRegressionModelV2(\n",
              "   (linear_layer): Linear(in_features=1, out_features=1, bias=True)\n",
              " ),\n",
              " OrderedDict([('linear_layer.weight', tensor([[0.3295]])),\n",
              "              ('linear_layer.bias', tensor([-0.2132]))]))"
            ]
          },
          "metadata": {},
          "execution_count": 36
        }
      ]
    },
    {
      "cell_type": "code",
      "source": [
        "seed=42\n",
        "torch.cuda.manual_seed_all(seed)\n",
        "model_1 = LinearRegressionModelV2()\n",
        "model_1, model_1.state_dict()"
      ],
      "metadata": {
        "colab": {
          "base_uri": "https://localhost:8080/"
        },
        "id": "0xazrJmraQiI",
        "outputId": "214079ce-bf0d-4ce0-f64f-e2fe1f406c4a"
      },
      "execution_count": null,
      "outputs": [
        {
          "output_type": "execute_result",
          "data": {
            "text/plain": [
              "(LinearRegressionModelV2(\n",
              "   (linear_layer): Linear(in_features=1, out_features=1, bias=True)\n",
              " ),\n",
              " OrderedDict([('linear_layer.weight', tensor([[-0.6945]])),\n",
              "              ('linear_layer.bias', tensor([-0.6344]))]))"
            ]
          },
          "metadata": {},
          "execution_count": 37
        }
      ]
    },
    {
      "cell_type": "code",
      "source": [
        "model_0"
      ],
      "metadata": {
        "colab": {
          "base_uri": "https://localhost:8080/"
        },
        "id": "DDgObnR0UNox",
        "outputId": "31c55ff8-fbb1-4c36-f543-ba94cd6a22c6"
      },
      "execution_count": null,
      "outputs": [
        {
          "output_type": "execute_result",
          "data": {
            "text/plain": [
              "LinearRegressionModel()"
            ]
          },
          "metadata": {},
          "execution_count": 38
        }
      ]
    },
    {
      "cell_type": "code",
      "source": [
        "torch.device"
      ],
      "metadata": {
        "colab": {
          "base_uri": "https://localhost:8080/"
        },
        "id": "43c3Y-LiU2kc",
        "outputId": "30766042-a9a7-4c68-b768-d993b05ff7ea"
      },
      "execution_count": null,
      "outputs": [
        {
          "output_type": "execute_result",
          "data": {
            "text/plain": [
              "torch.device"
            ]
          },
          "metadata": {},
          "execution_count": 39
        }
      ]
    },
    {
      "cell_type": "code",
      "source": [
        "next(model_1.parameters()).device"
      ],
      "metadata": {
        "colab": {
          "base_uri": "https://localhost:8080/"
        },
        "id": "DilfvELybK-f",
        "outputId": "dec2b7d2-97e1-45bc-93c4-ac7af538cad6"
      },
      "execution_count": null,
      "outputs": [
        {
          "output_type": "execute_result",
          "data": {
            "text/plain": [
              "device(type='cpu')"
            ]
          },
          "metadata": {},
          "execution_count": 40
        }
      ]
    },
    {
      "cell_type": "code",
      "source": [
        "device"
      ],
      "metadata": {
        "colab": {
          "base_uri": "https://localhost:8080/",
          "height": 36
        },
        "id": "ns760DHGbRCz",
        "outputId": "2a9d8f5c-3f33-4ffe-97e0-a7d9d875a408"
      },
      "execution_count": null,
      "outputs": [
        {
          "output_type": "execute_result",
          "data": {
            "text/plain": [
              "'cuda'"
            ],
            "application/vnd.google.colaboratory.intrinsic+json": {
              "type": "string"
            }
          },
          "metadata": {},
          "execution_count": 41
        }
      ]
    },
    {
      "cell_type": "code",
      "source": [
        "# set the model to use the targert device\n",
        "\n",
        "model_1.to(device)\n",
        "\n",
        "next(model_1.parameters()).device"
      ],
      "metadata": {
        "colab": {
          "base_uri": "https://localhost:8080/"
        },
        "id": "T1fZO44IbcvK",
        "outputId": "6933af2c-5a83-4ed6-c5f3-d8e048d76c5a"
      },
      "execution_count": null,
      "outputs": [
        {
          "output_type": "execute_result",
          "data": {
            "text/plain": [
              "device(type='cuda', index=0)"
            ]
          },
          "metadata": {},
          "execution_count": 42
        }
      ]
    },
    {
      "cell_type": "markdown",
      "source": [
        "### Training\n",
        "\n",
        "For training we need:\n",
        "* Loss FUnction\n",
        "* Optimizer\n",
        "* Training Loop\n",
        "* Testing loop"
      ],
      "metadata": {
        "id": "UnCtFIkZg543"
      }
    },
    {
      "cell_type": "code",
      "source": [
        "# Set up loss functiom\n",
        "\n",
        "loss_fn  = nn.L1Loss() #MAE\n",
        "\n",
        "#set up optimizer\n",
        "optimizer= torch.optim.SGD(params=model_1.parameters(), lr=0.01)"
      ],
      "metadata": {
        "id": "7rB-viTxgobw"
      },
      "execution_count": null,
      "outputs": []
    },
    {
      "cell_type": "code",
      "source": [
        "# Let's write a training loop\n",
        "#torch.manual_seed(42)\n",
        "\n",
        "epochs=200\n",
        "\n",
        "# Put data on the target device\n",
        "X_train = X_train.to(device)\n",
        "X_test = X_test.to(device)\n",
        "y_train = y_train.to(device)\n",
        "y_test = y_test.to(device)\n",
        "\n",
        "\n",
        "# 0.Iterate over loop(#epochs)\n",
        "for epoch in range(epochs):\n",
        "  model_1.train()\n",
        "\n",
        "  #1. Forward Pass\n",
        "  y_pred = model_1(X_train)\n",
        "\n",
        "  # 2. Caluclate the loss\n",
        "  loss = loss_fn(y_pred,y_train)\n",
        "\n",
        "  # 3. Optimizer zero grad\n",
        "  optimizer.zero_grad()\n",
        "\n",
        "  # 4. Perform Backpropagation\n",
        "  loss.backward()\n",
        "\n",
        "  # 5. Optimizer step\n",
        "  optimizer.step()\n",
        "\n",
        "\n",
        "  # TESTING\n",
        "  model_1.eval()  #Turn model into evaluation mode.\n",
        "\n",
        "  with torch.inference_mode():\n",
        "    test_pred = model_1(X_test)\n",
        "\n",
        "    test_loss = loss_fn(test_pred, y_test)\n",
        "\n",
        "  # Print out what's happening:\n",
        "  if (epoch%10==0):\n",
        "    print(f\"Epoch: {epoch} | Loss: {loss} | Test_Loss: {test_loss}\")  "
      ],
      "metadata": {
        "colab": {
          "base_uri": "https://localhost:8080/"
        },
        "id": "4BXWVH5LhW6P",
        "outputId": "b83d15d8-ce78-4bc1-93ba-9496d47bcb10"
      },
      "execution_count": null,
      "outputs": [
        {
          "output_type": "stream",
          "name": "stdout",
          "text": [
            "Epoch: 0 | Loss: 1.2783039808273315 | Test_Loss: 1.9621065855026245\n",
            "Epoch: 10 | Loss: 1.1630940437316895 | Test_Loss: 1.8273967504501343\n",
            "Epoch: 20 | Loss: 1.047884225845337 | Test_Loss: 1.692686915397644\n",
            "Epoch: 30 | Loss: 0.93267422914505 | Test_Loss: 1.5579770803451538\n",
            "Epoch: 40 | Loss: 0.8174643516540527 | Test_Loss: 1.4232672452926636\n",
            "Epoch: 50 | Loss: 0.7022542953491211 | Test_Loss: 1.2885572910308838\n",
            "Epoch: 60 | Loss: 0.587044358253479 | Test_Loss: 1.153847336769104\n",
            "Epoch: 70 | Loss: 0.4718343913555145 | Test_Loss: 1.0191373825073242\n",
            "Epoch: 80 | Loss: 0.36791038513183594 | Test_Loss: 0.8915075659751892\n",
            "Epoch: 90 | Loss: 0.2976911664009094 | Test_Loss: 0.7849100232124329\n",
            "Epoch: 100 | Loss: 0.25151097774505615 | Test_Loss: 0.6967170834541321\n",
            "Epoch: 110 | Loss: 0.22140292823314667 | Test_Loss: 0.6249094009399414\n",
            "Epoch: 120 | Loss: 0.2022647112607956 | Test_Loss: 0.5677004456520081\n",
            "Epoch: 130 | Loss: 0.18952135741710663 | Test_Loss: 0.521136462688446\n",
            "Epoch: 140 | Loss: 0.18083208799362183 | Test_Loss: 0.48483291268348694\n",
            "Epoch: 150 | Loss: 0.1744510382413864 | Test_Loss: 0.4550604820251465\n",
            "Epoch: 160 | Loss: 0.16940495371818542 | Test_Loss: 0.4305695593357086\n",
            "Epoch: 170 | Loss: 0.16530756652355194 | Test_Loss: 0.41276952624320984\n",
            "Epoch: 180 | Loss: 0.16130755841732025 | Test_Loss: 0.3949695825576782\n",
            "Epoch: 190 | Loss: 0.15771828591823578 | Test_Loss: 0.3832715153694153\n"
          ]
        }
      ]
    },
    {
      "cell_type": "code",
      "source": [
        "model_1.state_dict()"
      ],
      "metadata": {
        "colab": {
          "base_uri": "https://localhost:8080/"
        },
        "id": "_9NsnXlgj4IS",
        "outputId": "99a43e30-b11b-4f0a-e317-cc587392d066"
      },
      "execution_count": null,
      "outputs": [
        {
          "output_type": "execute_result",
          "data": {
            "text/plain": [
              "OrderedDict([('linear_layer.weight', tensor([[-0.0701]], device='cuda:0')),\n",
              "             ('linear_layer.bias', tensor([0.4121], device='cuda:0'))])"
            ]
          },
          "metadata": {},
          "execution_count": 45
        }
      ]
    },
    {
      "cell_type": "code",
      "source": [
        "weights, bias"
      ],
      "metadata": {
        "colab": {
          "base_uri": "https://localhost:8080/"
        },
        "id": "znNWhNoXlo9F",
        "outputId": "3eb63cd7-2327-4395-97ca-bc5dc5b43d45"
      },
      "execution_count": null,
      "outputs": [
        {
          "output_type": "execute_result",
          "data": {
            "text/plain": [
              "(0.7, 0.1)"
            ]
          },
          "metadata": {},
          "execution_count": 46
        }
      ]
    },
    {
      "cell_type": "code",
      "source": [
        "# Turn model into Evaluation Mode:\n",
        "model_1.eval()\n",
        "\n",
        "# MAke Predictions on the test data\n",
        "with torch.inference_mode():\n",
        "  y_preds = model_1(X_test)\n",
        "y_preds"
      ],
      "metadata": {
        "colab": {
          "base_uri": "https://localhost:8080/"
        },
        "id": "_6PxxckMlvg4",
        "outputId": "95c6a0a7-fba3-4e39-a737-1f55ea587826"
      },
      "execution_count": null,
      "outputs": [
        {
          "output_type": "execute_result",
          "data": {
            "text/plain": [
              "tensor([[0.3560],\n",
              "        [0.3546],\n",
              "        [0.3532],\n",
              "        [0.3518],\n",
              "        [0.3503],\n",
              "        [0.3489],\n",
              "        [0.3475],\n",
              "        [0.3461],\n",
              "        [0.3447],\n",
              "        [0.3433]], device='cuda:0')"
            ]
          },
          "metadata": {},
          "execution_count": 47
        }
      ]
    },
    {
      "cell_type": "code",
      "source": [
        "y_preds.cpu()"
      ],
      "metadata": {
        "colab": {
          "base_uri": "https://localhost:8080/"
        },
        "id": "pcvtmqP8nOqd",
        "outputId": "f27e0664-da8b-4228-9290-08dafc317b92"
      },
      "execution_count": null,
      "outputs": [
        {
          "output_type": "execute_result",
          "data": {
            "text/plain": [
              "tensor([[0.3560],\n",
              "        [0.3546],\n",
              "        [0.3532],\n",
              "        [0.3518],\n",
              "        [0.3503],\n",
              "        [0.3489],\n",
              "        [0.3475],\n",
              "        [0.3461],\n",
              "        [0.3447],\n",
              "        [0.3433]])"
            ]
          },
          "metadata": {},
          "execution_count": 48
        }
      ]
    },
    {
      "cell_type": "code",
      "source": [
        "a=y_preds.cpu().numpy()"
      ],
      "metadata": {
        "id": "J8LltP7KnkBu"
      },
      "execution_count": null,
      "outputs": []
    },
    {
      "cell_type": "code",
      "source": [
        "a"
      ],
      "metadata": {
        "colab": {
          "base_uri": "https://localhost:8080/"
        },
        "id": "yZLwaOaRnlny",
        "outputId": "0bcbf494-5acb-4aa4-8c5a-ca607ea6476d"
      },
      "execution_count": null,
      "outputs": [
        {
          "output_type": "execute_result",
          "data": {
            "text/plain": [
              "array([[0.35595897],\n",
              "       [0.35455623],\n",
              "       [0.35315347],\n",
              "       [0.3517507 ],\n",
              "       [0.35034794],\n",
              "       [0.3489452 ],\n",
              "       [0.34754243],\n",
              "       [0.34613967],\n",
              "       [0.34473693],\n",
              "       [0.34333417]], dtype=float32)"
            ]
          },
          "metadata": {},
          "execution_count": 50
        }
      ]
    },
    {
      "cell_type": "code",
      "source": [
        "type(a)"
      ],
      "metadata": {
        "colab": {
          "base_uri": "https://localhost:8080/"
        },
        "id": "Sx44EW0AntwV",
        "outputId": "cc221c35-5f4a-42c0-861a-3bab4493b8a4"
      },
      "execution_count": null,
      "outputs": [
        {
          "output_type": "execute_result",
          "data": {
            "text/plain": [
              "numpy.ndarray"
            ]
          },
          "metadata": {},
          "execution_count": 51
        }
      ]
    },
    {
      "cell_type": "code",
      "source": [
        "# # Put data on the target device\n",
        "# X_train = X_train.to(device)\n",
        "# X_test = X_test.to(device)\n",
        "# y_train = y_train.to(device)\n",
        "# y_test = y_test.to(device)\n",
        "# plot_predictions(predictions=a)"
      ],
      "metadata": {
        "id": "NdXjeKDemahQ"
      },
      "execution_count": null,
      "outputs": []
    },
    {
      "cell_type": "code",
      "source": [
        "plot_predictions(train_data=X_train.cpu(), train_labels=y_train.cpu(), test_data=X_test.cpu(), test_labels=y_test.cpu(), predictions=y_preds.cpu())"
      ],
      "metadata": {
        "colab": {
          "base_uri": "https://localhost:8080/",
          "height": 428
        },
        "id": "OcLfvKpqmeZ_",
        "outputId": "5bacc96e-c4eb-4c67-f0b1-0c3940c3638a"
      },
      "execution_count": null,
      "outputs": [
        {
          "output_type": "display_data",
          "data": {
            "text/plain": [
              "<Figure size 720x504 with 1 Axes>"
            ],
            "image/png": "[encoded data removed]"
          },
          "metadata": {
            "needs_background": "light"
          }
        }
      ]
    },
    {
      "cell_type": "code",
      "source": [
        "# Saving and Loading a training model:\n",
        "\n",
        "from pathlib import Path\n",
        "\n",
        "# 1. Create model directory:\n",
        "MODEL_PATH = Path(\"models\")\n",
        "MODEL_PATH.mkdir(parents=True, exist_ok=True)\n",
        "\n",
        "# 2. Create model save path\n",
        "MODEL_NAME = \"Linear_reg_model.pth\"\n",
        "MODEL_SAVE_PATH = MODEL_PATH/MODEL_NAME\n",
        "\n",
        "#MODEL_SAVE_PATH\n",
        "\n",
        "# 3. Save the model state_dict\n",
        "print(f\"Saving model to: {MODEL_SAVE_PATH}\")\n",
        "torch.save(obj = model_1.state_dict(), \n",
        "           f = MODEL_SAVE_PATH)"
      ],
      "metadata": {
        "colab": {
          "base_uri": "https://localhost:8080/"
        },
        "id": "QP5Qnazbn_Fu",
        "outputId": "5bcd2979-0678-4b10-a533-3d1e75593954"
      },
      "execution_count": null,
      "outputs": [
        {
          "output_type": "stream",
          "name": "stdout",
          "text": [
            "Saving model to: models/Linear_reg_model.pth\n"
          ]
        }
      ]
    },
    {
      "cell_type": "code",
      "source": [
        "model_1.state_dict()"
      ],
      "metadata": {
        "colab": {
          "base_uri": "https://localhost:8080/"
        },
        "id": "erQXFNGFrSf6",
        "outputId": "f2fcea7a-b45c-48c2-ad46-b5c4464a904d"
      },
      "execution_count": null,
      "outputs": [
        {
          "output_type": "execute_result",
          "data": {
            "text/plain": [
              "OrderedDict([('linear_layer.weight', tensor([[-0.0701]], device='cuda:0')),\n",
              "             ('linear_layer.bias', tensor([0.4121], device='cuda:0'))])"
            ]
          },
          "metadata": {},
          "execution_count": 55
        }
      ]
    },
    {
      "cell_type": "code",
      "source": [
        "# Load a PyTorch Model:\n",
        "\n",
        "# Create a new instance of linear regression model v2\n",
        "loaded_model_1 = LinearRegressionModelV2()\n",
        "\n",
        "loaded_model_1.load_state_dict(torch.load(f=\"/content/models/Linear_reg_model.pth\"))  #f=MODEL_SAVE_PATH\n",
        "\n",
        "# Put the loaded model to device:\n",
        "loaded_model_1.to(device)"
      ],
      "metadata": {
        "colab": {
          "base_uri": "https://localhost:8080/"
        },
        "id": "srheFZkPr9ww",
        "outputId": "2bbbeb0e-e82d-4775-96a6-05f011bdbd28"
      },
      "execution_count": null,
      "outputs": [
        {
          "output_type": "execute_result",
          "data": {
            "text/plain": [
              "LinearRegressionModelV2(\n",
              "  (linear_layer): Linear(in_features=1, out_features=1, bias=True)\n",
              ")"
            ]
          },
          "metadata": {},
          "execution_count": 56
        }
      ]
    },
    {
      "cell_type": "code",
      "source": [
        "!ls -l models"
      ],
      "metadata": {
        "colab": {
          "base_uri": "https://localhost:8080/"
        },
        "id": "igWVUyLNszCM",
        "outputId": "e7ecb096-a9ea-4250-d8ed-5e0f53f075c7"
      },
      "execution_count": null,
      "outputs": [
        {
          "output_type": "stream",
          "name": "stdout",
          "text": [
            "total 4\n",
            "-rw-r--r-- 1 root root 1163 Jan  6 20:47 Linear_reg_model.pth\n"
          ]
        }
      ]
    },
    {
      "cell_type": "code",
      "source": [
        "next(loaded_model_1.parameters()).device"
      ],
      "metadata": {
        "colab": {
          "base_uri": "https://localhost:8080/"
        },
        "id": "xW9IgiqHs5Yr",
        "outputId": "70c1d90f-3e50-49ef-99b0-171d1ccde0e9"
      },
      "execution_count": null,
      "outputs": [
        {
          "output_type": "execute_result",
          "data": {
            "text/plain": [
              "device(type='cuda', index=0)"
            ]
          },
          "metadata": {},
          "execution_count": 58
        }
      ]
    },
    {
      "cell_type": "code",
      "source": [
        "loaded_model_1.state_dict()"
      ],
      "metadata": {
        "colab": {
          "base_uri": "https://localhost:8080/"
        },
        "id": "rtWJk2yLtFSY",
        "outputId": "75b498be-f98e-4873-fb87-bbdf45b378d7"
      },
      "execution_count": null,
      "outputs": [
        {
          "output_type": "execute_result",
          "data": {
            "text/plain": [
              "OrderedDict([('linear_layer.weight', tensor([[-0.0701]], device='cuda:0')),\n",
              "             ('linear_layer.bias', tensor([0.4121], device='cuda:0'))])"
            ]
          },
          "metadata": {},
          "execution_count": 59
        }
      ]
    },
    {
      "cell_type": "code",
      "source": [
        "# Evaluate loaded model\n",
        "loaded_model_1.eval()\n",
        "\n",
        "with torch.inference_mode():\n",
        "  loaded_model_1_preds = loaded_model_1(X_test)\n",
        "y_preds == loaded_model_1_preds"
      ],
      "metadata": {
        "colab": {
          "base_uri": "https://localhost:8080/"
        },
        "id": "sgG9SrbPtItM",
        "outputId": "24af24c9-0f3e-466f-ba89-e06566c4d14d"
      },
      "execution_count": null,
      "outputs": [
        {
          "output_type": "execute_result",
          "data": {
            "text/plain": [
              "tensor([[True],\n",
              "        [True],\n",
              "        [True],\n",
              "        [True],\n",
              "        [True],\n",
              "        [True],\n",
              "        [True],\n",
              "        [True],\n",
              "        [True],\n",
              "        [True]], device='cuda:0')"
            ]
          },
          "metadata": {},
          "execution_count": 60
        }
      ]
    },
    {
      "cell_type": "code",
      "source": [],
      "metadata": {
        "id": "ghr9JPXRwnw-"
      },
      "execution_count": null,
      "outputs": []
    },
    {
      "cell_type": "code",
      "source": [
        "#NEXT NOTEBOOK"
      ],
      "metadata": {
        "id": "WtQLMpHx1vK4"
      },
      "execution_count": null,
      "outputs": []
    }
  ]
}